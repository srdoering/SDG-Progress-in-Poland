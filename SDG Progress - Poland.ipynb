{
 "cells": [
  {
   "cell_type": "markdown",
   "metadata": {},
   "source": [
    "# How Can Poland Increase its Sustainable Development?\n",
    "\n",
    "This project analyzes Poland's progress toward the UN's Sustainable Development Goals (SDGs). These 17 goals are the standards that countries have agreed to reach by the year 2030. As a resident of Poland and an environmentalist, I am interested in figuring out what the SDGs suggest are areas where Poland can and needs to improve - and whether these agree with my existing knowledge and opinions.\n",
    "\n",
    "The 17 SDGs are:\n",
    "\n",
    "1. No Poverty\n",
    "1. Zero Hunger\n",
    "1. Good Health and Well-Being\n",
    "1. Quality Education\n",
    "1. Gender Equality\n",
    "1. Clean Water and Sanitation\n",
    "1. Affordable and Clean Energy\n",
    "1. Decent Work and Economic Growth\n",
    "1. Industry, Innovation and Infrastructure\n",
    "1. Reduced Inequalities\n",
    "1. Sustainable Cities and Communities\n",
    "1. Responsible Consumption and Production\n",
    "1. Climate Action\n",
    "1. Life Below Water\n",
    "1. Life on Land\n",
    "1. Peace, Justice and Strong Institutions\n",
    "1. Partnerships for the Goals\n",
    "\n",
    "The data set used has been collected by the Sustainable Development Solutions Network and Institute for European Environmental Policy for their publication *The 2020 Europe Sustainable Development Report: Meeting the Sustainable Development Goals in the face of the COVID-19 pandemic* (SDSN and IEEP, Paris and Brussels, 2020). Here are the [full data](https://github.com/sdsna/ESDR2020) and [source website](https://sdgindex.org/reports/europe-sustainable-development-report-2020/).\n",
    "\n",
    "The data cover 27 EU countries as well as 4 European Free Trade Association countries (Iceland, Liechtenstein, Norway, Switzerland), the UK and the combined EU. There are 17 Sustainable Development Goals, each comprising several sub-indicators that are measured numerically. The SDSN normalized and averaged these sub-indicator scores to create an overall score for every SDG for each country.\n",
    "\n",
    "For this analysis, we created two csv files from the [SDSN Online Database Excel file](https://github.com/sdsna/ESDR2020/blob/main/ESDR2020%20Online%20Database.xlsx) : \n",
    "\n",
    "- 'SDG_Full_Database.csv': This contains the most current data on goals and sub-indicators for all countries\n",
    "- 'SDG_Europe_data.csv': This contains data on historical trends in sub-indicators, where available\n",
    "\n",
    "Both files are housed in the github directory for this project.\n",
    "\n",
    "## Summary of Results\n",
    "\n",
    "By analyzing the goals and sub-indicators, we arrive at the following priority areas for Poland in order to increase its performance relative to the EU average:\n",
    "\n",
    "- Innovation & Industry: Increasing patents & building digital skills\n",
    "- Gender Equality: Increasing the number of women in leadership\n",
    "- Clean Energy: Increasing renewable energy & decreasing carbon emissions\n",
    "- Sustainable Cities: Decreasing air pollution\n",
    "\n",
    "In this report we present the data supporting these priorities and discuss their scope and limitations.\n",
    "\n",
    "We begin by reading in and cleaning the first data set."
   ]
  },
  {
   "cell_type": "markdown",
   "metadata": {},
   "source": [
    "## Cleaning the Data\n",
    "\n",
    "We read in the data, verify its format, check which countries are represented, and analyze null values."
   ]
  },
  {
   "cell_type": "code",
   "execution_count": 1,
   "metadata": {},
   "outputs": [],
   "source": [
    "import pandas as pd\n",
    "sdg_current = pd.read_csv('SDG_Full_Database.csv', sep = ';', decimal = ',')"
   ]
  },
  {
   "cell_type": "code",
   "execution_count": 2,
   "metadata": {},
   "outputs": [
    {
     "name": "stdout",
     "output_type": "stream",
     "text": [
      "Size: (39, 503)\n"
     ]
    },
    {
     "data": {
      "text/html": [
       "<div>\n",
       "<style scoped>\n",
       "    .dataframe tbody tr th:only-of-type {\n",
       "        vertical-align: middle;\n",
       "    }\n",
       "\n",
       "    .dataframe tbody tr th {\n",
       "        vertical-align: top;\n",
       "    }\n",
       "\n",
       "    .dataframe thead th {\n",
       "        text-align: right;\n",
       "    }\n",
       "</style>\n",
       "<table border=\"1\" class=\"dataframe\">\n",
       "  <thead>\n",
       "    <tr style=\"text-align: right;\">\n",
       "      <th></th>\n",
       "      <th>Country</th>\n",
       "      <th>id</th>\n",
       "      <th>2020 EU SDG Index Score (0-100)</th>\n",
       "      <th>2020 EU SDG Index Rank</th>\n",
       "      <th>Percentage Missing Values</th>\n",
       "      <th>Sub-region</th>\n",
       "      <th>Spillover Score</th>\n",
       "      <th>LNOB Score</th>\n",
       "      <th>2020 Population</th>\n",
       "      <th>Goal 1 Dashboard</th>\n",
       "      <th>...</th>\n",
       "      <th>Goal 8 Score</th>\n",
       "      <th>Goal 9 Score</th>\n",
       "      <th>Goal 10 Score</th>\n",
       "      <th>Goal 11 Score</th>\n",
       "      <th>Goal 12 Score</th>\n",
       "      <th>Goal 13 Score</th>\n",
       "      <th>Goal 14 Score</th>\n",
       "      <th>Goal 15 Score</th>\n",
       "      <th>Goal 16 Score</th>\n",
       "      <th>Goal 17 Score</th>\n",
       "    </tr>\n",
       "  </thead>\n",
       "  <tbody>\n",
       "    <tr>\n",
       "      <th>0</th>\n",
       "      <td>Finland</td>\n",
       "      <td>FIN</td>\n",
       "      <td>81.10</td>\n",
       "      <td>1.0</td>\n",
       "      <td>1.75</td>\n",
       "      <td>Northern Europe</td>\n",
       "      <td>66.73</td>\n",
       "      <td>86.69</td>\n",
       "      <td>5540718.0</td>\n",
       "      <td>green</td>\n",
       "      <td>...</td>\n",
       "      <td>90.318</td>\n",
       "      <td>91.262</td>\n",
       "      <td>94.946</td>\n",
       "      <td>85.655</td>\n",
       "      <td>60.951</td>\n",
       "      <td>54.698</td>\n",
       "      <td>88.231</td>\n",
       "      <td>80.468</td>\n",
       "      <td>90.689</td>\n",
       "      <td>70.168</td>\n",
       "    </tr>\n",
       "    <tr>\n",
       "      <th>1</th>\n",
       "      <td>Sweden</td>\n",
       "      <td>SWE</td>\n",
       "      <td>81.02</td>\n",
       "      <td>2.0</td>\n",
       "      <td>2.63</td>\n",
       "      <td>Northern Europe</td>\n",
       "      <td>72.78</td>\n",
       "      <td>82.47</td>\n",
       "      <td>10099270.0</td>\n",
       "      <td>yellow</td>\n",
       "      <td>...</td>\n",
       "      <td>86.979</td>\n",
       "      <td>95.478</td>\n",
       "      <td>89.291</td>\n",
       "      <td>82.170</td>\n",
       "      <td>52.499</td>\n",
       "      <td>63.396</td>\n",
       "      <td>68.329</td>\n",
       "      <td>74.465</td>\n",
       "      <td>84.212</td>\n",
       "      <td>90.756</td>\n",
       "    </tr>\n",
       "  </tbody>\n",
       "</table>\n",
       "<p>2 rows × 503 columns</p>\n",
       "</div>"
      ],
      "text/plain": [
       "   Country   id  2020 EU SDG Index Score (0-100)  2020 EU SDG Index Rank  \\\n",
       "0  Finland  FIN                            81.10                     1.0   \n",
       "1   Sweden  SWE                            81.02                     2.0   \n",
       "\n",
       "   Percentage Missing Values       Sub-region  Spillover Score  LNOB Score  \\\n",
       "0                       1.75  Northern Europe            66.73       86.69   \n",
       "1                       2.63  Northern Europe            72.78       82.47   \n",
       "\n",
       "   2020 Population Goal 1 Dashboard  ... Goal 8 Score Goal 9 Score  \\\n",
       "0        5540718.0            green  ...       90.318       91.262   \n",
       "1       10099270.0           yellow  ...       86.979       95.478   \n",
       "\n",
       "  Goal 10 Score Goal 11 Score Goal 12 Score Goal 13 Score Goal 14 Score  \\\n",
       "0        94.946        85.655        60.951        54.698        88.231   \n",
       "1        89.291        82.170        52.499        63.396        68.329   \n",
       "\n",
       "  Goal 15 Score Goal 16 Score Goal 17 Score  \n",
       "0        80.468        90.689        70.168  \n",
       "1        74.465        84.212        90.756  \n",
       "\n",
       "[2 rows x 503 columns]"
      ]
     },
     "execution_count": 2,
     "metadata": {},
     "output_type": "execute_result"
    }
   ],
   "source": [
    "#Checking data/columns\n",
    "print('Size:', sdg_current.shape)\n",
    "sdg_current.head(2)"
   ]
  },
  {
   "cell_type": "code",
   "execution_count": 3,
   "metadata": {
    "scrolled": true
   },
   "outputs": [
    {
     "data": {
      "text/plain": [
       "0                        Finland\n",
       "1                         Sweden\n",
       "2                        Denmark\n",
       "3                        Austria\n",
       "4                         Norway\n",
       "5                        Germany\n",
       "6                       Slovenia\n",
       "7                    Switzerland\n",
       "8                         France\n",
       "9                 Czech Republic\n",
       "10                       Iceland\n",
       "11                       Estonia\n",
       "12                       Belgium\n",
       "13                   Netherlands\n",
       "14                United Kingdom\n",
       "15                        Poland\n",
       "16               Slovak Republic\n",
       "17                       Ireland\n",
       "18                       Hungary\n",
       "19                        Latvia\n",
       "20                         Spain\n",
       "21                      Portugal\n",
       "22                         Italy\n",
       "23                       Croatia\n",
       "24                     Lithuania\n",
       "25                    Luxembourg\n",
       "26                         Malta\n",
       "27                        Greece\n",
       "28                        Cyprus\n",
       "29                       Romania\n",
       "30                      Bulgaria\n",
       "31                 Liechtenstein\n",
       "32                European Union\n",
       "33                 Baltic States\n",
       "34    Central and Eastern Europe\n",
       "35                EFTA Countries\n",
       "36               Northern Europe\n",
       "37               Southern Europe\n",
       "38                Western Europe\n",
       "Name: Country, dtype: object"
      ]
     },
     "execution_count": 3,
     "metadata": {},
     "output_type": "execute_result"
    }
   ],
   "source": [
    "#List of countries/regions\n",
    "sdg_current['Country']"
   ]
  },
  {
   "cell_type": "code",
   "execution_count": 4,
   "metadata": {},
   "outputs": [
    {
     "name": "stdout",
     "output_type": "stream",
     "text": [
      "Total null values: 2160\n"
     ]
    },
    {
     "data": {
      "image/png": "[encoded data removed]",
      "text/plain": [
       "<Figure size 1152x288 with 2 Axes>"
      ]
     },
     "metadata": {
      "needs_background": "light"
     },
     "output_type": "display_data"
    }
   ],
   "source": [
    "#Checking null values\n",
    "import matplotlib.pyplot as plt\n",
    "%matplotlib inline\n",
    "import seaborn as sns\n",
    "\n",
    "print('Total null values:' , sdg_current.isnull().sum().sum())\n",
    "\n",
    "fig = plt.figure(figsize =(16,4))\n",
    "sns.heatmap(sdg_current.notnull()).set(xticklabels = [])\n",
    "plt.title('Null Values in Black')\n",
    "plt.show()"
   ]
  },
  {
   "cell_type": "markdown",
   "metadata": {},
   "source": [
    "It seems most of the null values are in the last rows (the region rows), as well as country #31 (Liechtenstein). We will fill the region rows further below. For Liechtenstein, we verify that most entires are null, and then since it is a tiny country with little data we drop it from the analysis.\n",
    "\n",
    "There are also a few columns at the end with many null values, which we see below are related to goals 14-16. Hence, we'll need to be aware of this when working with those goals."
   ]
  },
  {
   "cell_type": "code",
   "execution_count": 5,
   "metadata": {},
   "outputs": [
    {
     "name": "stdout",
     "output_type": "stream",
     "text": [
      "Total null values in countries: 1248\n",
      "Total null values in Liechtenstein: 369\n"
     ]
    },
    {
     "data": {
      "image/png": "[encoded data removed]",
      "text/plain": [
       "<Figure size 1152x288 with 2 Axes>"
      ]
     },
     "metadata": {
      "needs_background": "light"
     },
     "output_type": "display_data"
    }
   ],
   "source": [
    "print('Total null values in countries:' , sdg_current[0:32].isnull().sum().sum())\n",
    "print('Total null values in Liechtenstein:', sdg_current.iloc[31].isnull().sum().sum())\n",
    "\n",
    "fig = plt.figure(figsize =(16,4))\n",
    "sns.heatmap(sdg_current.iloc[:, 385:475].notnull().transpose())\n",
    "plt.title('Null Values in Goals 14-16')\n",
    "plt.show()"
   ]
  },
  {
   "cell_type": "code",
   "execution_count": 6,
   "metadata": {},
   "outputs": [],
   "source": [
    "#dropping Liechtenstein\n",
    "sdg_current.drop(31, inplace = True)\n",
    "\n",
    "sdg_current.reset_index(inplace = True)"
   ]
  },
  {
   "cell_type": "markdown",
   "metadata": {},
   "source": [
    "## Verifying Score Calculation\n",
    "Next we'll verify that the normalized scores agree with the process described in the SDSN report. Namely, sub-indicators are normalized to a 0-100 scale and then averaged to create an overall 0-100 score for each SDG. The SDSN Excel file provides full documentation on how the minimum and maximum of each sub-indicator have been chosen.\n",
    "\n",
    "We will verify for SDG 1: No Poverty, which has 3 sub-indicators shown below."
   ]
  },
  {
   "cell_type": "code",
   "execution_count": 7,
   "metadata": {
    "scrolled": true
   },
   "outputs": [
    {
     "data": {
      "text/html": [
       "<div>\n",
       "<style scoped>\n",
       "    .dataframe tbody tr th:only-of-type {\n",
       "        vertical-align: middle;\n",
       "    }\n",
       "\n",
       "    .dataframe tbody tr th {\n",
       "        vertical-align: top;\n",
       "    }\n",
       "\n",
       "    .dataframe thead th {\n",
       "        text-align: right;\n",
       "    }\n",
       "</style>\n",
       "<table border=\"1\" class=\"dataframe\">\n",
       "  <thead>\n",
       "    <tr style=\"text-align: right;\">\n",
       "      <th></th>\n",
       "      <th>People at risk of income poverty after social transfers (%)</th>\n",
       "      <th>Normalized Score sdg1_transfer</th>\n",
       "      <th>col_sdg1_transfer</th>\n",
       "      <th>Trend sdg1_transfer</th>\n",
       "      <th>Severely materially deprived people (%)</th>\n",
       "      <th>Normalized Score sdg1_material</th>\n",
       "      <th>col_sdg1_material</th>\n",
       "      <th>Trend sdg1_material</th>\n",
       "      <th>Poverty headcount ratio at $5.50/day (%)</th>\n",
       "      <th>Normalized Score sdg1_550pov</th>\n",
       "      <th>col_sdg1_550pov</th>\n",
       "    </tr>\n",
       "  </thead>\n",
       "  <tbody>\n",
       "    <tr>\n",
       "      <th>0</th>\n",
       "      <td>11.6</td>\n",
       "      <td>54.688</td>\n",
       "      <td>green</td>\n",
       "      <td>↑</td>\n",
       "      <td>2.4</td>\n",
       "      <td>92.357</td>\n",
       "      <td>green</td>\n",
       "      <td>↑</td>\n",
       "      <td>0.16</td>\n",
       "      <td>99.238</td>\n",
       "      <td>green</td>\n",
       "    </tr>\n",
       "    <tr>\n",
       "      <th>1</th>\n",
       "      <td>17.1</td>\n",
       "      <td>33.203</td>\n",
       "      <td>yellow</td>\n",
       "      <td>↓</td>\n",
       "      <td>1.8</td>\n",
       "      <td>94.268</td>\n",
       "      <td>green</td>\n",
       "      <td>↑</td>\n",
       "      <td>0.82</td>\n",
       "      <td>96.095</td>\n",
       "      <td>green</td>\n",
       "    </tr>\n",
       "    <tr>\n",
       "      <th>2</th>\n",
       "      <td>12.5</td>\n",
       "      <td>51.172</td>\n",
       "      <td>green</td>\n",
       "      <td>↑</td>\n",
       "      <td>2.6</td>\n",
       "      <td>91.720</td>\n",
       "      <td>green</td>\n",
       "      <td>↑</td>\n",
       "      <td>0.37</td>\n",
       "      <td>98.238</td>\n",
       "      <td>green</td>\n",
       "    </tr>\n",
       "  </tbody>\n",
       "</table>\n",
       "</div>"
      ],
      "text/plain": [
       "   People at risk of income poverty after social transfers (%)  \\\n",
       "0                                               11.6             \n",
       "1                                               17.1             \n",
       "2                                               12.5             \n",
       "\n",
       "   Normalized Score sdg1_transfer col_sdg1_transfer Trend sdg1_transfer   \\\n",
       "0                          54.688             green                    ↑   \n",
       "1                          33.203            yellow                    ↓   \n",
       "2                          51.172             green                    ↑   \n",
       "\n",
       "   Severely materially deprived people (%)  Normalized Score sdg1_material  \\\n",
       "0                                      2.4                          92.357   \n",
       "1                                      1.8                          94.268   \n",
       "2                                      2.6                          91.720   \n",
       "\n",
       "  col_sdg1_material Trend sdg1_material   \\\n",
       "0             green                    ↑   \n",
       "1             green                    ↑   \n",
       "2             green                    ↑   \n",
       "\n",
       "   Poverty headcount ratio at $5.50/day (%)  Normalized Score sdg1_550pov  \\\n",
       "0                                      0.16                        99.238   \n",
       "1                                      0.82                        96.095   \n",
       "2                                      0.37                        98.238   \n",
       "\n",
       "  col_sdg1_550pov  \n",
       "0           green  \n",
       "1           green  \n",
       "2           green  "
      ]
     },
     "execution_count": 7,
     "metadata": {},
     "output_type": "execute_result"
    }
   ],
   "source": [
    "sdg_current.iloc[0:3, 44:55]"
   ]
  },
  {
   "cell_type": "code",
   "execution_count": 8,
   "metadata": {},
   "outputs": [
    {
     "name": "stdout",
     "output_type": "stream",
     "text": [
      "Number of Unequal Scores:\n",
      "Sub-indicator 1: 0\n",
      "Sub-indicator 2: 0\n",
      "Sub-indicator 3: 0\n"
     ]
    }
   ],
   "source": [
    "#columns to check\n",
    "sdg1_indicators = ['People at risk of income poverty after social transfers (%)', \n",
    "                   'Severely materially deprived people (%)', 'Poverty headcount ratio at $5.50/day (%)']\n",
    "sdg1_norm_cols = ['Normalized Score sdg1_transfer', 'Normalized Score sdg1_material', 'Normalized Score sdg1_550pov']\n",
    "\n",
    "#min and max from SDSN documentation\n",
    "sdg1_bounds = [[25.6,0], [31.4,0], [21,0]]\n",
    "\n",
    "#copy of dataframe for checking normalized scores, with countries only\n",
    "sdg_check_norm = sdg_current[0:32].copy()\n",
    "print('Number of Unequal Scores:')\n",
    "for i in range(3):\n",
    "    #create column with new norm, using formula: (x - min(x))/ (max(x) - min(x))\n",
    "    sdg_check_norm['norm{}'.format(i+1)] = round(\n",
    "        (sdg_current[sdg1_indicators[i]] - sdg1_bounds[i][0]) / (sdg1_bounds[i][1] - sdg1_bounds[i][0]) * 100,3)\n",
    "    #count unequal values:\n",
    "    print('Sub-indicator {}:'.format(i+1), sum(sdg_check_norm['norm{}'.format(i+1)] \n",
    "                         != round(sdg_check_norm[sdg1_norm_cols[i]],3)))"
   ]
  },
  {
   "cell_type": "markdown",
   "metadata": {},
   "source": [
    "The normalized scores appear conistent with their documentation. Next we sum the normalized scores and check that this gives us the total Goal 1 score:"
   ]
  },
  {
   "cell_type": "code",
   "execution_count": 9,
   "metadata": {},
   "outputs": [
    {
     "data": {
      "text/html": [
       "<div>\n",
       "<style scoped>\n",
       "    .dataframe tbody tr th:only-of-type {\n",
       "        vertical-align: middle;\n",
       "    }\n",
       "\n",
       "    .dataframe tbody tr th {\n",
       "        vertical-align: top;\n",
       "    }\n",
       "\n",
       "    .dataframe thead th {\n",
       "        text-align: right;\n",
       "    }\n",
       "</style>\n",
       "<table border=\"1\" class=\"dataframe\">\n",
       "  <thead>\n",
       "    <tr style=\"text-align: right;\">\n",
       "      <th></th>\n",
       "      <th>Normalized Score sdg1_transfer</th>\n",
       "      <th>col_sdg1_transfer</th>\n",
       "      <th>Trend sdg1_transfer</th>\n",
       "      <th>Normalized Score sdg1_material</th>\n",
       "      <th>col_sdg1_material</th>\n",
       "      <th>Trend sdg1_material</th>\n",
       "      <th>Normalized Score sdg1_550pov</th>\n",
       "      <th>col_sdg1_550pov</th>\n",
       "      <th>Trend sdg1_550pov</th>\n",
       "    </tr>\n",
       "  </thead>\n",
       "  <tbody>\n",
       "    <tr>\n",
       "      <th>0</th>\n",
       "      <td>54.688</td>\n",
       "      <td>green</td>\n",
       "      <td>↑</td>\n",
       "      <td>92.357</td>\n",
       "      <td>green</td>\n",
       "      <td>↑</td>\n",
       "      <td>99.238</td>\n",
       "      <td>green</td>\n",
       "      <td>↑</td>\n",
       "    </tr>\n",
       "    <tr>\n",
       "      <th>1</th>\n",
       "      <td>33.203</td>\n",
       "      <td>yellow</td>\n",
       "      <td>↓</td>\n",
       "      <td>94.268</td>\n",
       "      <td>green</td>\n",
       "      <td>↑</td>\n",
       "      <td>96.095</td>\n",
       "      <td>green</td>\n",
       "      <td>↑</td>\n",
       "    </tr>\n",
       "    <tr>\n",
       "      <th>2</th>\n",
       "      <td>51.172</td>\n",
       "      <td>green</td>\n",
       "      <td>↑</td>\n",
       "      <td>91.720</td>\n",
       "      <td>green</td>\n",
       "      <td>↑</td>\n",
       "      <td>98.238</td>\n",
       "      <td>green</td>\n",
       "      <td>↑</td>\n",
       "    </tr>\n",
       "  </tbody>\n",
       "</table>\n",
       "</div>"
      ],
      "text/plain": [
       "   Normalized Score sdg1_transfer col_sdg1_transfer Trend sdg1_transfer   \\\n",
       "0                          54.688             green                    ↑   \n",
       "1                          33.203            yellow                    ↓   \n",
       "2                          51.172             green                    ↑   \n",
       "\n",
       "   Normalized Score sdg1_material col_sdg1_material Trend sdg1_material   \\\n",
       "0                          92.357             green                    ↑   \n",
       "1                          94.268             green                    ↑   \n",
       "2                          91.720             green                    ↑   \n",
       "\n",
       "   Normalized Score sdg1_550pov col_sdg1_550pov Trend sdg1_550pov   \n",
       "0                        99.238           green                  ↑  \n",
       "1                        96.095           green                  ↑  \n",
       "2                        98.238           green                  ↑  "
      ]
     },
     "execution_count": 9,
     "metadata": {},
     "output_type": "execute_result"
    }
   ],
   "source": [
    "sdg_current.filter(regex = 'sdg1_', axis = 1).head(3)"
   ]
  },
  {
   "cell_type": "code",
   "execution_count": 10,
   "metadata": {},
   "outputs": [
    {
     "name": "stdout",
     "output_type": "stream",
     "text": [
      "Number Unequal Goal 1 Scores: 0\n"
     ]
    }
   ],
   "source": [
    "#create column with mean of goal 1 sub-indicators\n",
    "sdg_check_norm['goal_1_check'] = round(sdg_check_norm.filter(\n",
    "    regex = 'Normalized Score sdg1_', axis = 1).mean(axis=1),3)\n",
    "\n",
    "print('Number Unequal Goal 1 Scores:', \n",
    "      (sdg_check_norm['goal_1_check'] != round(sdg_check_norm['Goal 1 Score'],3)).sum())"
   ]
  },
  {
   "cell_type": "markdown",
   "metadata": {},
   "source": [
    "Again, the scores match. Lastly, we check that the mean of the 17 SDG scores matches the overall score:"
   ]
  },
  {
   "cell_type": "code",
   "execution_count": 11,
   "metadata": {},
   "outputs": [
    {
     "name": "stdout",
     "output_type": "stream",
     "text": [
      "Number Unequal Totals: 0\n"
     ]
    }
   ],
   "source": [
    "#mean of 17 SDG goals for each country\n",
    "sdg_totals = round(sdg_current.filter(regex = 'Goal [0-9]* Score').mean(axis=1),2)\n",
    "\n",
    "#compare unequal entries\n",
    "print('Number Unequal Totals:', \n",
    "      (sdg_totals[0:32] != round(sdg_current['2020 EU SDG Index Score (0-100)'],2)[0:32]).sum())"
   ]
  },
  {
   "cell_type": "markdown",
   "metadata": {},
   "source": [
    "## Calculating Regional Averages\n",
    "\n",
    "The regions other than the EU lack total scores for each goal as well as an overall score, as noted above. We will fill each region with the mean score of its members, so that we can make comparisons across regions and compare countries to their regions."
   ]
  },
  {
   "cell_type": "code",
   "execution_count": 12,
   "metadata": {},
   "outputs": [
    {
     "data": {
      "text/html": [
       "<div>\n",
       "<style scoped>\n",
       "    .dataframe tbody tr th:only-of-type {\n",
       "        vertical-align: middle;\n",
       "    }\n",
       "\n",
       "    .dataframe tbody tr th {\n",
       "        vertical-align: top;\n",
       "    }\n",
       "\n",
       "    .dataframe thead th {\n",
       "        text-align: right;\n",
       "    }\n",
       "</style>\n",
       "<table border=\"1\" class=\"dataframe\">\n",
       "  <thead>\n",
       "    <tr style=\"text-align: right;\">\n",
       "      <th></th>\n",
       "      <th>Country</th>\n",
       "      <th>Goal 1 Score</th>\n",
       "      <th>Goal 2 Score</th>\n",
       "      <th>Goal 3 Score</th>\n",
       "      <th>Goal 4 Score</th>\n",
       "      <th>Goal 5 Score</th>\n",
       "      <th>Goal 6 Score</th>\n",
       "      <th>Goal 7 Score</th>\n",
       "      <th>Goal 8 Score</th>\n",
       "      <th>Goal 9 Score</th>\n",
       "      <th>Goal 10 Score</th>\n",
       "      <th>Goal 11 Score</th>\n",
       "      <th>Goal 12 Score</th>\n",
       "      <th>Goal 13 Score</th>\n",
       "      <th>Goal 14 Score</th>\n",
       "      <th>Goal 15 Score</th>\n",
       "      <th>Goal 16 Score</th>\n",
       "      <th>Goal 17 Score</th>\n",
       "    </tr>\n",
       "  </thead>\n",
       "  <tbody>\n",
       "    <tr>\n",
       "      <th>31</th>\n",
       "      <td>European Union</td>\n",
       "      <td>69.577</td>\n",
       "      <td>56.393</td>\n",
       "      <td>84.157</td>\n",
       "      <td>70.152</td>\n",
       "      <td>64.689</td>\n",
       "      <td>86.032</td>\n",
       "      <td>64.245</td>\n",
       "      <td>72.692</td>\n",
       "      <td>72.373</td>\n",
       "      <td>82.261</td>\n",
       "      <td>65.918</td>\n",
       "      <td>62.053</td>\n",
       "      <td>66.408</td>\n",
       "      <td>67.001</td>\n",
       "      <td>77.253</td>\n",
       "      <td>74.746</td>\n",
       "      <td>65.135</td>\n",
       "    </tr>\n",
       "    <tr>\n",
       "      <th>32</th>\n",
       "      <td>Baltic States</td>\n",
       "      <td>60.512</td>\n",
       "      <td>60.391</td>\n",
       "      <td>71.706</td>\n",
       "      <td>80.758</td>\n",
       "      <td>56.718</td>\n",
       "      <td>86.539</td>\n",
       "      <td>64.357</td>\n",
       "      <td>75.991</td>\n",
       "      <td>44.353</td>\n",
       "      <td>54.973</td>\n",
       "      <td>67.938</td>\n",
       "      <td>58.695</td>\n",
       "      <td>65.080</td>\n",
       "      <td>83.992</td>\n",
       "      <td>95.190</td>\n",
       "      <td>84.389</td>\n",
       "      <td>47.428</td>\n",
       "    </tr>\n",
       "    <tr>\n",
       "      <th>33</th>\n",
       "      <td>Central and Eastern Europe</td>\n",
       "      <td>65.848</td>\n",
       "      <td>59.061</td>\n",
       "      <td>77.021</td>\n",
       "      <td>61.553</td>\n",
       "      <td>53.621</td>\n",
       "      <td>82.345</td>\n",
       "      <td>61.883</td>\n",
       "      <td>71.020</td>\n",
       "      <td>43.856</td>\n",
       "      <td>78.728</td>\n",
       "      <td>58.544</td>\n",
       "      <td>63.664</td>\n",
       "      <td>71.583</td>\n",
       "      <td>74.660</td>\n",
       "      <td>85.429</td>\n",
       "      <td>74.585</td>\n",
       "      <td>52.093</td>\n",
       "    </tr>\n",
       "    <tr>\n",
       "      <th>34</th>\n",
       "      <td>EFTA Countries</td>\n",
       "      <td>81.346</td>\n",
       "      <td>50.014</td>\n",
       "      <td>91.922</td>\n",
       "      <td>78.310</td>\n",
       "      <td>80.288</td>\n",
       "      <td>78.820</td>\n",
       "      <td>96.537</td>\n",
       "      <td>86.750</td>\n",
       "      <td>87.648</td>\n",
       "      <td>92.106</td>\n",
       "      <td>74.413</td>\n",
       "      <td>47.235</td>\n",
       "      <td>36.833</td>\n",
       "      <td>69.458</td>\n",
       "      <td>61.014</td>\n",
       "      <td>85.069</td>\n",
       "      <td>64.942</td>\n",
       "    </tr>\n",
       "    <tr>\n",
       "      <th>35</th>\n",
       "      <td>Northern Europe</td>\n",
       "      <td>78.998</td>\n",
       "      <td>58.480</td>\n",
       "      <td>90.625</td>\n",
       "      <td>87.372</td>\n",
       "      <td>79.647</td>\n",
       "      <td>91.053</td>\n",
       "      <td>88.873</td>\n",
       "      <td>88.261</td>\n",
       "      <td>93.325</td>\n",
       "      <td>94.404</td>\n",
       "      <td>78.615</td>\n",
       "      <td>55.077</td>\n",
       "      <td>57.722</td>\n",
       "      <td>79.366</td>\n",
       "      <td>80.900</td>\n",
       "      <td>88.349</td>\n",
       "      <td>81.227</td>\n",
       "    </tr>\n",
       "    <tr>\n",
       "      <th>36</th>\n",
       "      <td>Southern Europe</td>\n",
       "      <td>64.466</td>\n",
       "      <td>50.671</td>\n",
       "      <td>84.163</td>\n",
       "      <td>66.055</td>\n",
       "      <td>55.440</td>\n",
       "      <td>78.299</td>\n",
       "      <td>56.976</td>\n",
       "      <td>67.178</td>\n",
       "      <td>51.267</td>\n",
       "      <td>79.411</td>\n",
       "      <td>56.201</td>\n",
       "      <td>54.765</td>\n",
       "      <td>67.450</td>\n",
       "      <td>61.301</td>\n",
       "      <td>67.550</td>\n",
       "      <td>74.902</td>\n",
       "      <td>60.635</td>\n",
       "    </tr>\n",
       "    <tr>\n",
       "      <th>37</th>\n",
       "      <td>Western Europe</td>\n",
       "      <td>76.263</td>\n",
       "      <td>52.240</td>\n",
       "      <td>87.248</td>\n",
       "      <td>74.132</td>\n",
       "      <td>68.494</td>\n",
       "      <td>86.713</td>\n",
       "      <td>61.747</td>\n",
       "      <td>78.774</td>\n",
       "      <td>84.322</td>\n",
       "      <td>88.731</td>\n",
       "      <td>72.888</td>\n",
       "      <td>51.005</td>\n",
       "      <td>52.478</td>\n",
       "      <td>73.931</td>\n",
       "      <td>75.293</td>\n",
       "      <td>78.654</td>\n",
       "      <td>54.426</td>\n",
       "    </tr>\n",
       "  </tbody>\n",
       "</table>\n",
       "</div>"
      ],
      "text/plain": [
       "                       Country  Goal 1 Score  Goal 2 Score  Goal 3 Score  \\\n",
       "31              European Union        69.577        56.393        84.157   \n",
       "32               Baltic States        60.512        60.391        71.706   \n",
       "33  Central and Eastern Europe        65.848        59.061        77.021   \n",
       "34              EFTA Countries        81.346        50.014        91.922   \n",
       "35             Northern Europe        78.998        58.480        90.625   \n",
       "36             Southern Europe        64.466        50.671        84.163   \n",
       "37              Western Europe        76.263        52.240        87.248   \n",
       "\n",
       "    Goal 4 Score  Goal 5 Score  Goal 6 Score  Goal 7 Score  Goal 8 Score  \\\n",
       "31        70.152        64.689        86.032        64.245        72.692   \n",
       "32        80.758        56.718        86.539        64.357        75.991   \n",
       "33        61.553        53.621        82.345        61.883        71.020   \n",
       "34        78.310        80.288        78.820        96.537        86.750   \n",
       "35        87.372        79.647        91.053        88.873        88.261   \n",
       "36        66.055        55.440        78.299        56.976        67.178   \n",
       "37        74.132        68.494        86.713        61.747        78.774   \n",
       "\n",
       "    Goal 9 Score  Goal 10 Score  Goal 11 Score  Goal 12 Score  Goal 13 Score  \\\n",
       "31        72.373         82.261         65.918         62.053         66.408   \n",
       "32        44.353         54.973         67.938         58.695         65.080   \n",
       "33        43.856         78.728         58.544         63.664         71.583   \n",
       "34        87.648         92.106         74.413         47.235         36.833   \n",
       "35        93.325         94.404         78.615         55.077         57.722   \n",
       "36        51.267         79.411         56.201         54.765         67.450   \n",
       "37        84.322         88.731         72.888         51.005         52.478   \n",
       "\n",
       "    Goal 14 Score  Goal 15 Score  Goal 16 Score  Goal 17 Score  \n",
       "31         67.001         77.253         74.746         65.135  \n",
       "32         83.992         95.190         84.389         47.428  \n",
       "33         74.660         85.429         74.585         52.093  \n",
       "34         69.458         61.014         85.069         64.942  \n",
       "35         79.366         80.900         88.349         81.227  \n",
       "36         61.301         67.550         74.902         60.635  \n",
       "37         73.931         75.293         78.654         54.426  "
      ]
     },
     "execution_count": 12,
     "metadata": {},
     "output_type": "execute_result"
    }
   ],
   "source": [
    "#create DF of regions and Goal mean scores\n",
    "region_goal_scores = round(sdg_current.groupby('Sub-region').mean().filter(\n",
    "    regex = 'Country|Goal [0-9]* Score', axis = 1),3)\n",
    "\n",
    "#resetting index manually to match DF\n",
    "region_goal_scores.reset_index(inplace = True)\n",
    "region_goal_scores.index = region_goal_scores.index + 32\n",
    "region_goal_scores\n",
    "\n",
    "#Fill null region values\n",
    "sdg_current.fillna(region_goal_scores, inplace = True)\n",
    "\n",
    "#Check it's worked\n",
    "sdg_current.filter(regex = 'Country|Goal [0-9]* Score', axis = 1).tail(7)\n",
    "\n",
    "#Note: this seems like an inelegant solution.\n",
    "#How to fill a row in a DF with the column mean of only a SUBSET of the column that matches this row in another column?\n",
    "#i.e. find mean of Region's 'Goal x Score' and fill Region's 'Goal x Score' with this?"
   ]
  },
  {
   "cell_type": "markdown",
   "metadata": {},
   "source": [
    "We compute the new overall index score for each region and visualize these scores graphically."
   ]
  },
  {
   "cell_type": "code",
   "execution_count": 13,
   "metadata": {},
   "outputs": [],
   "source": [
    "#calculating overall score\n",
    "sdg_current['2020 EU SDG Index Score (0-100)'].fillna(\n",
    "    round(sdg_current.filter(regex = 'Goal [0-9]* Score', axis = 1).mean(axis = 1),2), inplace = True)"
   ]
  },
  {
   "cell_type": "code",
   "execution_count": 14,
   "metadata": {},
   "outputs": [
    {
     "data": {
      "image/png": "[encoded data removed]",
      "text/plain": [
       "<Figure size 432x288 with 1 Axes>"
      ]
     },
     "metadata": {
      "needs_background": "light"
     },
     "output_type": "display_data"
    }
   ],
   "source": [
    "#renaming score column\n",
    "sdg_current.rename({'2020 EU SDG Index Score (0-100)': 'overall_score'}, axis = 1, inplace = True)\n",
    "\n",
    "region_totals = sdg_current.tail(6)[['Country', 'overall_score']].sort_values('overall_score')\n",
    "ax = plt.subplot()\n",
    "sns.barplot(y = 'Country', x = 'overall_score', data = region_totals, \n",
    "            palette = 'winter', ax = ax, alpha = 0.85).invert_yaxis()\n",
    "plt.title('Overall Score by Region')\n",
    "plt.ylabel('')\n",
    "plt.xlim((0,100))\n",
    "plt.xlabel('% Achieved')\n",
    "\n",
    "plt.show()"
   ]
  },
  {
   "cell_type": "markdown",
   "metadata": {},
   "source": [
    "We can see that there is variation in the region's scores, as visualized below. Within the EU, Northern and Western European countries have a higher average than Baltic, Central/Eastern and Southern European countries. As we'll next be focusing on Poland which is in the Central/Eastern Europe category, we will compare to both this region and the EU as a whole."
   ]
  },
  {
   "cell_type": "markdown",
   "metadata": {},
   "source": [
    "## EU Overall Progress on SDGs\n",
    "\n",
    "We graph the 17 SDGs scores of the EU average and of Poland. As there are many goals, we color code from most complete (blue) to least complete (red)."
   ]
  },
  {
   "cell_type": "code",
   "execution_count": 15,
   "metadata": {},
   "outputs": [],
   "source": [
    "#Creating DF with all countries' average scores for comparison\n",
    "goals = sdg_current.filter(regex = 'Country|Goal [0-9]* Score', axis = 1).set_index('Country').transpose()\n",
    "\n",
    "goals.reset_index(inplace = True)\n",
    "goals.rename({'index' : 'goal'}, axis = 1, inplace = True)\n",
    "goals['goal'] = goals['goal'].str.extract(r' ([0-9]*) ')"
   ]
  },
  {
   "cell_type": "code",
   "execution_count": 16,
   "metadata": {},
   "outputs": [
    {
     "data": {
      "image/png": "[encoded data removed]",
      "text/plain": [
       "<Figure size 864x432 with 2 Axes>"
      ]
     },
     "metadata": {
      "needs_background": "light"
     },
     "output_type": "display_data"
    }
   ],
   "source": [
    "fig = plt.figure(figsize = (12,6))\n",
    "ax1 = plt.subplot(1,2,1)\n",
    "\n",
    "#calculate min & max for color-coding\n",
    "eu_min = goals['European Union'].min()\n",
    "eu_max = goals['European Union'].max()\n",
    "\n",
    "import matplotlib as mpl\n",
    "sns.barplot(y = 'goal', x = 'European Union', data = goals, ax = ax1, \n",
    "            #color-coding bars from blue to red based on rescaled values\n",
    "            palette = mpl.cm.coolwarm(1 - (goals['European Union'] - eu_min ) / (eu_max - eu_min)))\n",
    "plt.title('EU: Completion of SDG Goals')\n",
    "plt.xlabel('% Complete')\n",
    "plt.ylabel('')\n",
    "plt.xlim((0,100))\n",
    "ax1.set_yticklabels(['No Poverty 1','Zero Hunger 2','Good Health and Well-Being 3','Quality Education 4',\n",
    "                     'Gender Equality 5', 'Clean Water and Sanitation 6','Affordable and Clean Energy 7',\n",
    "                     'Decent Work and Economic Growth 8', 'Industry, Innovation and Infrastructure 9',\n",
    "                     'Reduced Inequalities 10', 'Sustainable Cities and Communities 11',\n",
    "                     'Responsible Consumption and Production 12','Climate Action 13',\n",
    "                     'Life Below Water 14','Life on Land 15','Peace, Justice and Strong Institutions 16',\n",
    "                     'Partnerships for the Goals 17'])\n",
    "\n",
    "ax2 = plt.subplot(1,2,2)\n",
    "\n",
    "pol_min = goals['Poland'].min()\n",
    "pol_max = goals['Poland'].max()\n",
    "\n",
    "sns.barplot(y = 'goal', x = 'Poland', data = goals, ax = ax2, \n",
    "            palette = mpl.cm.coolwarm(1 - (goals['Poland'] - pol_min ) / (pol_max - pol_min)))\n",
    "plt.title('Poland: Completion of SDG Goals')\n",
    "plt.xlabel('% Complete')\n",
    "plt.ylabel('')\n",
    "plt.xlim((0,100))\n",
    "\n",
    "sns.despine()\n",
    "ax1.tick_params(axis = 'both', left = False, bottom = False)\n",
    "ax2.tick_params(axis = 'both', left = False, bottom = False)\n",
    "plt.show()"
   ]
  },
  {
   "cell_type": "markdown",
   "metadata": {},
   "source": [
    "Immediately we see that the EU has made the most progress on Goals 3, 6, and 10: Health, Sanitation and Inequality. Poland is also high in these categories, as well as Life on Land (Goal 15). This makes sense, as Europe generally has a high standard of basic safe living conditions for most of its population.\n",
    "\n",
    "The bottom two goals for Europe are Zero Hunger (2) and Responsible Consumption/Production (12). Poland's lowest categories, meanwhile, are Industry, Innovation & Infratstructure (9) and Sustainable Cities (11). This suggests that while Poland may be doing well in similar categories to other European countries, its greatest challenges may be specific to it."
   ]
  },
  {
   "cell_type": "markdown",
   "metadata": {},
   "source": [
    "## Visualizing Comparative Progress\n",
    "\n",
    "The graphs above highlight highest and lowest achievements, yet are less useful in comparing Poland and the EU more holistically. Below we create polar charts to more easily compare Poland with other countries/regions. We use the [plotly module](https://github.com/plotly/plotly.py/tree/6387cb3bbea7dcd891ca8a72ee630fca5d53e132) to create these charts."
   ]
  },
  {
   "cell_type": "code",
   "execution_count": 18,
   "metadata": {},
   "outputs": [
    {
     "data": {
      "image/svg+xml": [
       "<svg class=\"main-svg\" xmlns=\"http://www.w3.org/2000/svg\" xmlns:xlink=\"http://www.w3.org/1999/xlink\" width=\"700\" height=\"450\" style=\"\" viewBox=\"0 0 700 450\"><rect x=\"0\" y=\"0\" width=\"700\" height=\"450\" style=\"fill: rgb(255, 255, 255); fill-opacity: 1;\"/><defs id=\"defs-68e784\"><g class=\"clips\"><clipPath id=\"clip68e784polar-for-traces\"><path d=\"M121.5,0A121.5,121.5 0,1,0 -121.5,-1.4879458609640343e-14A121.5,121.5 0,1,0 121.5,2.9758917219280685e-14Z\" transform=\"translate(121.5,121.49999999999999)\"/></clipPath><clipPath id=\"clip68e784polar2-for-traces\"><path d=\"M121.49999999999999,0A121.49999999999999,121.49999999999999 0,1,0 -121.49999999999999,-1.487945860964034e-14A121.49999999999999,121.49999999999999 0,1,0 121.49999999999999,2.975891721928068e-14Z\" transform=\"translate(121.5,121.49999999999999)\"/></clipPath></g><g class=\"gradients\"/></defs><g class=\"bglayer\"/><g class=\"layer-below\"><g class=\"imagelayer\"/><g class=\"shapelayer\"/></g><g class=\"cartesianlayer\"/><g class=\"polarlayer\"><g class=\"polar\"><g class=\"polarsublayer draglayer\"/><g class=\"polarsublayer plotbg\"><path d=\"M121.5,0A121.5,121.5 0,1,0 -121.5,-1.4879458609640343e-14A121.5,121.5 0,1,0 121.5,2.9758917219280685e-14Z\" transform=\"translate(201.5,235)\" style=\"fill: rgb(176, 224, 230); fill-opacity: 1;\"/></g><g class=\"polarsublayer backplot\"><g class=\"maplayer\"/></g><g class=\"polarsublayer angular-grid\" style=\"fill: none;\"><path class=\"angularaxisgrid\" d=\"M201.5,235L201.5,113.5\" style=\"stroke: rgb(255, 255, 255); stroke-opacity: 1; stroke-width: 1px;\"/><path class=\"angularaxisgrid\" d=\"M201.5,235L245.3908624417391,121.70462412737076\" style=\"stroke: rgb(255, 255, 255); stroke-opacity: 1; stroke-width: 1px;\"/><path class=\"angularaxisgrid\" d=\"M201.5,235L283.3540207030567,145.21041655768994\" style=\"stroke: rgb(255, 255, 255); stroke-opacity: 1; stroke-width: 1px;\"/><path class=\"angularaxisgrid\" d=\"M201.5,235L310.2623398996401,180.8427897731506\" style=\"stroke: rgb(255, 255, 255); stroke-opacity: 1; stroke-width: 1px;\"/><path class=\"angularaxisgrid\" d=\"M201.5,235L322.48170241984667,223.7893943252088\" style=\"stroke: rgb(255, 255, 255); stroke-opacity: 1; stroke-width: 1px;\"/><path class=\"angularaxisgrid\" d=\"M201.5,235L318.36181564549753,268.25005329375807\" style=\"stroke: rgb(255, 255, 255); stroke-opacity: 1; stroke-width: 1px;\"/><path class=\"angularaxisgrid\" d=\"M201.5,235L298.4590931145491,308.22010832007965\" style=\"stroke: rgb(255, 255, 255); stroke-opacity: 1; stroke-width: 1px;\"/><path class=\"angularaxisgrid\" d=\"M201.5,235L265.4615077895988,338.3013819911481\" style=\"stroke: rgb(255, 255, 255); stroke-opacity: 1; stroke-width: 1px;\"/><path class=\"angularaxisgrid\" d=\"M201.5,235L223.8255664147133,354.43123161159406\" style=\"stroke: rgb(255, 255, 255); stroke-opacity: 1; stroke-width: 1px;\"/><path class=\"angularaxisgrid\" d=\"M201.5,235L179.17443358528672,354.43123161159406\" style=\"stroke: rgb(255, 255, 255); stroke-opacity: 1; stroke-width: 1px;\"/><path class=\"angularaxisgrid\" d=\"M201.5,235L137.53849221040124,338.3013819911481\" style=\"stroke: rgb(255, 255, 255); stroke-opacity: 1; stroke-width: 1px;\"/><path class=\"angularaxisgrid\" d=\"M201.5,235L104.54090688545097,308.22010832007976\" style=\"stroke: rgb(255, 255, 255); stroke-opacity: 1; stroke-width: 1px;\"/><path class=\"angularaxisgrid\" d=\"M201.5,235L84.63818435450249,268.25005329375807\" style=\"stroke: rgb(255, 255, 255); stroke-opacity: 1; stroke-width: 1px;\"/><path class=\"angularaxisgrid\" d=\"M201.5,235L80.51829758015332,223.78939432520875\" style=\"stroke: rgb(255, 255, 255); stroke-opacity: 1; stroke-width: 1px;\"/><path class=\"angularaxisgrid\" d=\"M201.5,235L92.7376601003599,180.84278977315066\" style=\"stroke: rgb(255, 255, 255); stroke-opacity: 1; stroke-width: 1px;\"/><path class=\"angularaxisgrid\" d=\"M201.5,235L119.64597929694324,145.21041655768997\" style=\"stroke: rgb(255, 255, 255); stroke-opacity: 1; stroke-width: 1px;\"/><path class=\"angularaxisgrid\" d=\"M201.5,235L157.6091375582609,121.70462412737076\" style=\"stroke: rgb(255, 255, 255); stroke-opacity: 1; stroke-width: 1px;\"/></g><g class=\"polarsublayer radial-grid\" transform=\"translate(201.5,235)\" style=\"fill: none;\"><path class=\"xgrid\" d=\"M30.38,0A30.38,30.38 0,1,0 -30.38,-3.720476975809659e-15A30.38,30.38 0,1,0 30.38,7.440953951619318e-15Z\" style=\"stroke: rgb(255, 255, 255); stroke-opacity: 1; stroke-width: 1px;\"/><path class=\"xgrid\" d=\"M60.75,0A60.75,60.75 0,1,0 -60.75,-7.439729304820171e-15A60.75,60.75 0,1,0 60.75,1.4879458609640343e-14Z\" style=\"stroke: rgb(255, 255, 255); stroke-opacity: 1; stroke-width: 1px;\"/><path class=\"xgrid\" d=\"M91.13,0A91.13,91.13 0,1,0 -91.13,-1.1160206280629829e-14A91.13,91.13 0,1,0 91.13,2.2320412561259658e-14Z\" style=\"stroke: rgb(255, 255, 255); stroke-opacity: 1; stroke-width: 1px;\"/></g><g class=\"polarsublayer frontplot\" transform=\"translate(80,113.50000000000001)\" clip-path=\"url('#clip68e784polar-for-traces')\"><g class=\"barlayer\"><g class=\"trace bars\" style=\"opacity: 0.6;\"><g class=\"points\"><g class=\"point\" style=\"vector-effect: non-scaling-stroke; stroke-miterlimit: 2;\"><path d=\"M121.5,121.49999999999999L138.2263143579032,32.022121276593694A91.02780000000001,91.02780000000001 0,0,0 104.77368564209681,32.022121276593694L121.5,121.49999999999999A0,0 0,0,1 121.5,121.49999999999999Z\" style=\"opacity: 1; stroke-width: 2px; fill: rgb(220, 20, 60); fill-opacity: 1; stroke: rgb(0, 0, 128); stroke-opacity: 1;\"/></g><g class=\"point\" style=\"vector-effect: non-scaling-stroke; stroke-miterlimit: 2;\"><path d=\"M121.5,121.49999999999999L159.1989126911895,60.61416545441729A71.6121,71.6121 0,0,0 134.658688844832,51.10723208812645L121.5,121.49999999999999A0,0 0,0,1 121.5,121.49999999999999Z\" style=\"opacity: 1; stroke-width: 2px; fill: rgb(220, 20, 60); fill-opacity: 1; stroke: rgb(0, 0, 128); stroke-opacity: 1;\"/></g><g class=\"point\" style=\"vector-effect: non-scaling-stroke; stroke-miterlimit: 2;\"><path d=\"M121.5,121.49999999999999L197.1368189477286,64.38172570058904A94.78093500000001,94.78093500000001 0,0,0 171.39573261158807,40.91562492252524L121.5,121.49999999999999A0,0 0,0,1 121.5,121.49999999999999Z\" style=\"opacity: 1; stroke-width: 2px; fill: rgb(220, 20, 60); fill-opacity: 1; stroke: rgb(0, 0, 128); stroke-opacity: 1;\"/></g><g class=\"point\" style=\"vector-effect: non-scaling-stroke; stroke-miterlimit: 2;\"><path d=\"M121.5,121.49999999999999L212.9151552886904,95.49014581095773A95.043375,95.043375 0,0,0 197.34625058885604,64.22357026661768L121.5,121.49999999999999A0,0 0,0,1 121.5,121.49999999999999Z\" style=\"opacity: 1; stroke-width: 2px; fill: rgb(220, 20, 60); fill-opacity: 1; stroke: rgb(0, 0, 128); stroke-opacity: 1;\"/></g><g class=\"point\" style=\"vector-effect: non-scaling-stroke; stroke-miterlimit: 2;\"><path d=\"M121.5,121.49999999999999L190.20671862125516,127.86661506877066A69.00106500000001,69.00106500000001 0,0,0 187.8669937232345,102.61696223394183L121.5,121.49999999999999A0,0 0,0,1 121.5,121.49999999999999Z\" style=\"opacity: 1; stroke-width: 2px; fill: rgb(220, 20, 60); fill-opacity: 1; stroke: rgb(0, 0, 128); stroke-opacity: 1;\"/></g><g class=\"point\" style=\"vector-effect: non-scaling-stroke; stroke-miterlimit: 2;\"><path d=\"M121.5,121.49999999999999L218.7172175192933,169.9084223612693A108.60277500000001,108.60277500000001 0,0,0 229.63949470797996,131.52059988241209L121.5,121.49999999999999A0,0 0,0,1 121.5,121.49999999999999Z\" style=\"opacity: 1; stroke-width: 2px; fill: rgb(220, 20, 60); fill-opacity: 1; stroke: rgb(0, 0, 128); stroke-opacity: 1;\"/></g><g class=\"point\" style=\"vector-effect: non-scaling-stroke; stroke-miterlimit: 2;\"><path d=\"M121.5,121.49999999999999L168.7993458632613,173.3849107921389A70.208775,70.208775 0,0,0 184.34831811100702,152.79474392958488L121.5,121.49999999999999A0,0 0,0,1 121.5,121.49999999999999Z\" style=\"opacity: 1; stroke-width: 2px; fill: rgb(220, 20, 60); fill-opacity: 1; stroke: rgb(0, 0, 128); stroke-opacity: 1;\"/></g><g class=\"point\" style=\"vector-effect: non-scaling-stroke; stroke-miterlimit: 2;\"><path d=\"M121.5,121.49999999999999L153.14092273424973,203.1746364665784A87.58935000000001,87.58935000000001 0,0,0 180.50856352483356,186.22931070356134L121.5,121.49999999999999A0,0 0,0,1 121.5,121.49999999999999Z\" style=\"opacity: 1; stroke-width: 2px; fill: rgb(220, 20, 60); fill-opacity: 1; stroke: rgb(0, 0, 128); stroke-opacity: 1;\"/></g><g class=\"point\" style=\"vector-effect: non-scaling-stroke; stroke-miterlimit: 2;\"><path d=\"M121.5,121.49999999999999L121.5,178.533315A57.03331500000001,57.03331500000001 0,0,0 142.10280973877676,174.68198238837087L121.5,121.49999999999999A0,0 0,0,1 121.5,121.49999999999999Z\" style=\"opacity: 1; stroke-width: 2px; fill: rgb(220, 20, 60); fill-opacity: 1; stroke: rgb(0, 0, 128); stroke-opacity: 1;\"/></g><g class=\"point\" style=\"vector-effect: non-scaling-stroke; stroke-miterlimit: 2;\"><path d=\"M121.5,121.49999999999999L87.18700156029723,210.0720589497041A94.98627,94.98627 0,0,0 121.5,216.48627L121.5,121.49999999999999A0,0 0,0,1 121.5,121.49999999999999Z\" style=\"opacity: 1; stroke-width: 2px; fill: rgb(220, 20, 60); fill-opacity: 1; stroke: rgb(0, 0, 128); stroke-opacity: 1;\"/></g><g class=\"point\" style=\"vector-effect: non-scaling-stroke; stroke-miterlimit: 2;\"><path d=\"M121.5,121.49999999999999L75.06093989432782,172.44122227016018A68.93181,68.93181 0,0,0 96.59895810230375,185.77699854757748L121.5,121.49999999999999A0,0 0,0,1 121.5,121.49999999999999Z\" style=\"opacity: 1; stroke-width: 2px; fill: rgb(220, 20, 60); fill-opacity: 1; stroke: rgb(0, 0, 128); stroke-opacity: 1;\"/></g><g class=\"point\" style=\"vector-effect: non-scaling-stroke; stroke-miterlimit: 2;\"><path d=\"M121.5,121.49999999999999L46.32020779117181,158.93508842510514A83.98444500000001,83.98444500000001 0,0,0 64.92004526942611,183.56525376282798L121.5,121.49999999999999A0,0 0,0,1 121.5,121.49999999999999Z\" style=\"opacity: 1; stroke-width: 2px; fill: rgb(220, 20, 60); fill-opacity: 1; stroke: rgb(0, 0, 128); stroke-opacity: 1;\"/></g><g class=\"point\" style=\"vector-effect: non-scaling-stroke; stroke-miterlimit: 2;\"><path d=\"M121.5,121.49999999999999L35.68041957145752,129.45235524146986A86.18724000000002,86.18724000000002 0,0,0 44.34834656879133,159.9169586465179L121.5,121.49999999999999A0,0 0,0,1 121.5,121.49999999999999Z\" style=\"opacity: 1; stroke-width: 2px; fill: rgb(220, 20, 60); fill-opacity: 1; stroke: rgb(0, 0, 128); stroke-opacity: 1;\"/></g><g class=\"point\" style=\"vector-effect: non-scaling-stroke; stroke-miterlimit: 2;\"><path d=\"M121.5,121.49999999999999L49.06437219029482,100.89028696639699A75.31056,75.31056 0,0,0 46.510701572082226,128.44878182146255L121.5,121.49999999999999A0,0 0,0,1 121.5,121.49999999999999Z\" style=\"opacity: 1; stroke-width: 2px; fill: rgb(220, 20, 60); fill-opacity: 1; stroke: rgb(0, 0, 128); stroke-opacity: 1;\"/></g><g class=\"point\" style=\"vector-effect: non-scaling-stroke; stroke-miterlimit: 2;\"><path d=\"M121.5,121.49999999999999L35.80270555070575,56.7844072612976A107.38777500000002,107.38777500000002 0,0,0 18.211684241727,92.11194039631192L121.5,121.49999999999999A0,0 0,0,1 121.5,121.49999999999999Z\" style=\"opacity: 1; stroke-width: 2px; fill: rgb(220, 20, 60); fill-opacity: 1; stroke: rgb(0, 0, 128); stroke-opacity: 1;\"/></g><g class=\"point\" style=\"vector-effect: non-scaling-stroke; stroke-miterlimit: 2;\"><path d=\"M121.5,121.49999999999999L71.51024397196119,40.76377189099826A94.95954000000002,94.95954000000002 0,0,0 45.72065118539298,64.27409214135855L121.5,121.49999999999999A0,0 0,0,1 121.5,121.49999999999999Z\" style=\"opacity: 1; stroke-width: 2px; fill: rgb(220, 20, 60); fill-opacity: 1; stroke: rgb(0, 0, 128); stroke-opacity: 1;\"/></g><g class=\"point\" style=\"vector-effect: non-scaling-stroke; stroke-miterlimit: 2;\"><path d=\"M121.5,121.49999999999999L106.50659610720687,41.292373474285625A81.59697000000001,81.59697000000001 0,0,0 78.54473059866126,52.12485788238473L121.5,121.49999999999999A0,0 0,0,1 121.5,121.49999999999999Z\" style=\"opacity: 1; stroke-width: 2px; fill: rgb(220, 20, 60); fill-opacity: 1; stroke: rgb(0, 0, 128); stroke-opacity: 1;\"/></g></g></g></g><g class=\"scatterlayer\"/></g><g class=\"polarsublayer angular-line\"><path d=\"M121.5,0A121.5,121.5 0,1,0 -121.5,-1.4879458609640343e-14A121.5,121.5 0,1,0 121.5,2.9758917219280685e-14Z\" transform=\"translate(201.5,235)\" stroke-width=\"1\" style=\"fill: none; stroke: rgb(255, 255, 255); stroke-opacity: 1;\"/></g><g class=\"polarsublayer radial-line\"><line display=\"none\" style=\"fill: none; stroke: rgb(0, 0, 0); stroke-opacity: 1;\"/></g><g class=\"polarsublayer angular-axis\"><g class=\"angularaxistick\"><text text-anchor=\"middle\" x=\"2.2655965784226036e-16\" y=\"-6.9\" transform=\"translate(201.5,113.5)\" style=\"font-family: 'Open Sans', verdana, arial, sans-serif; font-size: 16px; fill: rgb(0, 0, 128); fill-opacity: 1; white-space: pre;\">SDG1</text></g><g class=\"angularaxistick\"><text text-anchor=\"start\" x=\"1.3365941648924662\" y=\"-4.411105052241998\" transform=\"translate(245.3908624417391,121.70462412737076)\" style=\"font-family: 'Open Sans', verdana, arial, sans-serif; font-size: 16px; fill: rgb(0, 0, 128); fill-opacity: 1; white-space: pre;\">SDG2</text></g><g class=\"angularaxistick\"><text text-anchor=\"start\" x=\"2.4926738814922618\" y=\"-1.3264659244018278\" transform=\"translate(283.3540207030567,145.21041655768994)\" style=\"font-family: 'Open Sans', verdana, arial, sans-serif; font-size: 16px; fill: rgb(0, 0, 128); fill-opacity: 1; white-space: pre;\">SDG3</text></g><g class=\"angularaxistick\"><text text-anchor=\"start\" x=\"3.312104178013731\" y=\"1.9373197767302344\" transform=\"translate(310.2623398996401,180.8427897731506)\" style=\"font-family: 'Open Sans', verdana, arial, sans-serif; font-size: 16px; fill: rgb(0, 0, 128); fill-opacity: 1; white-space: pre;\">SDG4</text></g><g class=\"angularaxistick\"><text text-anchor=\"start\" x=\"3.6842164522916283\" y=\"4.939459706955409\" transform=\"translate(322.48170241984667,223.7893943252088)\" style=\"font-family: 'Open Sans', verdana, arial, sans-serif; font-size: 16px; fill: rgb(0, 0, 128); fill-opacity: 1; white-space: pre;\">SDG5</text></g><g class=\"angularaxistick\"><text text-anchor=\"start\" x=\"3.5587548797394306\" y=\"10.77738450618782\" transform=\"translate(318.36181564549753,268.25005329375807)\" style=\"font-family: 'Open Sans', verdana, arial, sans-serif; font-size: 16px; fill: rgb(0, 0, 128); fill-opacity: 1; white-space: pre;\">SDG6</text></g><g class=\"angularaxistick\"><text text-anchor=\"start\" x=\"2.9526637409368863\" y=\"16.34079880944069\" transform=\"translate(298.4590931145491,308.22010832007965)\" style=\"font-family: 'Open Sans', verdana, arial, sans-serif; font-size: 16px; fill: rgb(0, 0, 128); fill-opacity: 1; white-space: pre;\">SDG7</text></g><g class=\"angularaxistick\"><text text-anchor=\"start\" x=\"1.9477990026462175\" y=\"19.69729768598659\" transform=\"translate(265.4615077895988,338.3013819911481)\" style=\"font-family: 'Open Sans', verdana, arial, sans-serif; font-size: 16px; fill: rgb(0, 0, 128); fill-opacity: 1; white-space: pre;\">SDG8</text></g><g class=\"angularaxistick\"><text text-anchor=\"start\" x=\"0.6798732159213102\" y=\"20.393567363545657\" transform=\"translate(223.8255664147133,354.43123161159406)\" style=\"font-family: 'Open Sans', verdana, arial, sans-serif; font-size: 16px; fill: rgb(0, 0, 128); fill-opacity: 1; white-space: pre;\">SDG9</text></g><g class=\"angularaxistick\"><text text-anchor=\"end\" x=\"-0.6798732159213098\" y=\"20.393567363545657\" transform=\"translate(179.17443358528672,354.43123161159406)\" style=\"font-family: 'Open Sans', verdana, arial, sans-serif; font-size: 16px; fill: rgb(0, 0, 128); fill-opacity: 1; white-space: pre;\">SDG10</text></g><g class=\"angularaxistick\"><text text-anchor=\"end\" x=\"-1.947799002646217\" y=\"19.69729768598659\" transform=\"translate(137.53849221040124,338.3013819911481)\" style=\"font-family: 'Open Sans', verdana, arial, sans-serif; font-size: 16px; fill: rgb(0, 0, 128); fill-opacity: 1; white-space: pre;\">SDG11</text></g><g class=\"angularaxistick\"><text text-anchor=\"end\" x=\"-2.952663740936884\" y=\"16.340798809440706\" transform=\"translate(104.54090688545097,308.22010832007976)\" style=\"font-family: 'Open Sans', verdana, arial, sans-serif; font-size: 16px; fill: rgb(0, 0, 128); fill-opacity: 1; white-space: pre;\">SDG12</text></g><g class=\"angularaxistick\"><text text-anchor=\"end\" x=\"-3.5587548797394306\" y=\"10.777384506187822\" transform=\"translate(84.63818435450249,268.25005329375807)\" style=\"font-family: 'Open Sans', verdana, arial, sans-serif; font-size: 16px; fill: rgb(0, 0, 128); fill-opacity: 1; white-space: pre;\">SDG13</text></g><g class=\"angularaxistick\"><text text-anchor=\"end\" x=\"-3.684216452291628\" y=\"4.939459706955406\" transform=\"translate(80.51829758015332,223.78939432520875)\" style=\"font-family: 'Open Sans', verdana, arial, sans-serif; font-size: 16px; fill: rgb(0, 0, 128); fill-opacity: 1; white-space: pre;\">SDG14</text></g><g class=\"angularaxistick\"><text text-anchor=\"end\" x=\"-3.3121041780137315\" y=\"1.9373197767302397\" transform=\"translate(92.7376601003599,180.84278977315066)\" style=\"font-family: 'Open Sans', verdana, arial, sans-serif; font-size: 16px; fill: rgb(0, 0, 128); fill-opacity: 1; white-space: pre;\">SDG15</text></g><g class=\"angularaxistick\"><text text-anchor=\"end\" x=\"-2.492673881492264\" y=\"-1.326465924401821\" transform=\"translate(119.64597929694324,145.21041655768997)\" style=\"font-family: 'Open Sans', verdana, arial, sans-serif; font-size: 16px; fill: rgb(0, 0, 128); fill-opacity: 1; white-space: pre;\">SDG16</text></g><g class=\"angularaxistick\"><text text-anchor=\"end\" x=\"-1.3365941648924662\" y=\"-4.411105052241998\" transform=\"translate(157.6091375582609,121.70462412737076)\" style=\"font-family: 'Open Sans', verdana, arial, sans-serif; font-size: 16px; fill: rgb(0, 0, 128); fill-opacity: 1; white-space: pre;\">SDG17</text></g></g><g class=\"polarsublayer radial-axis\" display=\"none\"/></g><g class=\"polar2\"><g class=\"polarsublayer draglayer\"/><g class=\"polarsublayer plotbg\"><path d=\"M121.49999999999999,0A121.49999999999999,121.49999999999999 0,1,0 -121.49999999999999,-1.487945860964034e-14A121.49999999999999,121.49999999999999 0,1,0 121.49999999999999,2.975891721928068e-14Z\" transform=\"translate(498.5,235)\" style=\"fill: rgb(176, 224, 230); fill-opacity: 1;\"/></g><g class=\"polarsublayer backplot\"><g class=\"maplayer\"/></g><g class=\"polarsublayer angular-grid\" style=\"fill: none;\"><path class=\"angularaxisgrid\" d=\"M498.5,235L498.5,113.50000000000001\" style=\"stroke: rgb(255, 255, 255); stroke-opacity: 1; stroke-width: 1px;\"/><path class=\"angularaxisgrid\" d=\"M498.5,235L542.390862441739,121.70462412737078\" style=\"stroke: rgb(255, 255, 255); stroke-opacity: 1; stroke-width: 1px;\"/><path class=\"angularaxisgrid\" d=\"M498.5,235L580.3540207030567,145.21041655768994\" style=\"stroke: rgb(255, 255, 255); stroke-opacity: 1; stroke-width: 1px;\"/><path class=\"angularaxisgrid\" d=\"M498.5,235L607.2623398996401,180.8427897731506\" style=\"stroke: rgb(255, 255, 255); stroke-opacity: 1; stroke-width: 1px;\"/><path class=\"angularaxisgrid\" d=\"M498.5,235L619.4817024198467,223.7893943252088\" style=\"stroke: rgb(255, 255, 255); stroke-opacity: 1; stroke-width: 1px;\"/><path class=\"angularaxisgrid\" d=\"M498.5,235L615.3618156454975,268.25005329375807\" style=\"stroke: rgb(255, 255, 255); stroke-opacity: 1; stroke-width: 1px;\"/><path class=\"angularaxisgrid\" d=\"M498.5,235L595.4590931145491,308.22010832007965\" style=\"stroke: rgb(255, 255, 255); stroke-opacity: 1; stroke-width: 1px;\"/><path class=\"angularaxisgrid\" d=\"M498.5,235L562.4615077895987,338.3013819911481\" style=\"stroke: rgb(255, 255, 255); stroke-opacity: 1; stroke-width: 1px;\"/><path class=\"angularaxisgrid\" d=\"M498.5,235L520.8255664147133,354.43123161159406\" style=\"stroke: rgb(255, 255, 255); stroke-opacity: 1; stroke-width: 1px;\"/><path class=\"angularaxisgrid\" d=\"M498.5,235L476.17443358528675,354.43123161159406\" style=\"stroke: rgb(255, 255, 255); stroke-opacity: 1; stroke-width: 1px;\"/><path class=\"angularaxisgrid\" d=\"M498.5,235L434.5384922104013,338.3013819911481\" style=\"stroke: rgb(255, 255, 255); stroke-opacity: 1; stroke-width: 1px;\"/><path class=\"angularaxisgrid\" d=\"M498.5,235L401.54090688545097,308.22010832007976\" style=\"stroke: rgb(255, 255, 255); stroke-opacity: 1; stroke-width: 1px;\"/><path class=\"angularaxisgrid\" d=\"M498.5,235L381.6381843545025,268.25005329375807\" style=\"stroke: rgb(255, 255, 255); stroke-opacity: 1; stroke-width: 1px;\"/><path class=\"angularaxisgrid\" d=\"M498.5,235L377.51829758015333,223.78939432520875\" style=\"stroke: rgb(255, 255, 255); stroke-opacity: 1; stroke-width: 1px;\"/><path class=\"angularaxisgrid\" d=\"M498.5,235L389.7376601003599,180.84278977315068\" style=\"stroke: rgb(255, 255, 255); stroke-opacity: 1; stroke-width: 1px;\"/><path class=\"angularaxisgrid\" d=\"M498.5,235L416.6459792969432,145.21041655769\" style=\"stroke: rgb(255, 255, 255); stroke-opacity: 1; stroke-width: 1px;\"/><path class=\"angularaxisgrid\" d=\"M498.5,235L454.6091375582609,121.70462412737078\" style=\"stroke: rgb(255, 255, 255); stroke-opacity: 1; stroke-width: 1px;\"/></g><g class=\"polarsublayer radial-grid\" transform=\"translate(498.5,235)\" style=\"fill: none;\"><path class=\"xgrid\" d=\"M30.37,0A30.37,30.37 0,1,0 -30.37,-3.7192523290105115e-15A30.37,30.37 0,1,0 30.37,7.438504658021023e-15Z\" style=\"stroke: rgb(255, 255, 255); stroke-opacity: 1; stroke-width: 1px;\"/><path class=\"xgrid\" d=\"M60.75,0A60.75,60.75 0,1,0 -60.75,-7.439729304820171e-15A60.75,60.75 0,1,0 60.75,1.4879458609640343e-14Z\" style=\"stroke: rgb(255, 255, 255); stroke-opacity: 1; stroke-width: 1px;\"/><path class=\"xgrid\" d=\"M91.12,0A91.12,91.12 0,1,0 -91.12,-1.1158981633830684e-14A91.12,91.12 0,1,0 91.12,2.2317963267661367e-14Z\" style=\"stroke: rgb(255, 255, 255); stroke-opacity: 1; stroke-width: 1px;\"/></g><g class=\"polarsublayer frontplot\" transform=\"translate(377,113.50000000000001)\"><g class=\"barlayer\"/><g class=\"scatterlayer\"><g class=\"trace scatter trace15a91f\" style=\"stroke-miterlimit: 2; opacity: 0.9;\"><g class=\"fills\" clip-path=\"url('#clip68e784polar2-for-traces')\"><g><path class=\"js-fill\" d=\"M121.5,30.47L147.37,54.72L185.35,51.46L206.58,79.14L190.21,115.13L225.96,151.22L177.53,163.81L167.61,195.97L131.98,177.56L104.05,214.87L85.21,180.11L54.48,172.11L38.6,145.09L46.51,114.55L25.37,73.63L57.53,51.32L92.02,45.41Z\" style=\"fill: rgb(220, 20, 60); fill-opacity: 0.5; stroke-width: 0;\"/></g></g><g class=\"errorbars\"/><g class=\"lines\"><path class=\"js-line\" d=\"M121.5,30.47L147.37,54.72L185.35,51.46L206.58,79.14L190.21,115.13L225.96,151.22L177.53,163.81L167.61,195.97L131.98,177.56L104.05,214.87L85.21,180.11L54.48,172.11L38.6,145.09L46.51,114.55L25.37,73.63L57.53,51.32L92.02,45.41\" clip-path=\"url('#clip68e784polar2-for-traces')\" style=\"vector-effect: non-scaling-stroke; fill: none; stroke: rgb(220, 20, 60); stroke-opacity: 1; stroke-width: 2px; opacity: 1;\"/></g><g class=\"points\"><path class=\"point\" transform=\"translate(121.5,30.47)\" d=\"M3,0A3,3 0 1,1 0,-3A3,3 0 0,1 3,0Z\" style=\"opacity: 1; stroke-width: 0px; fill: rgb(220, 20, 60); fill-opacity: 1;\"/><path class=\"point\" transform=\"translate(147.37,54.72)\" d=\"M3,0A3,3 0 1,1 0,-3A3,3 0 0,1 3,0Z\" style=\"opacity: 1; stroke-width: 0px; fill: rgb(220, 20, 60); fill-opacity: 1;\"/><path class=\"point\" transform=\"translate(185.35,51.46)\" d=\"M3,0A3,3 0 1,1 0,-3A3,3 0 0,1 3,0Z\" style=\"opacity: 1; stroke-width: 0px; fill: rgb(220, 20, 60); fill-opacity: 1;\"/><path class=\"point\" transform=\"translate(206.58,79.14)\" d=\"M3,0A3,3 0 1,1 0,-3A3,3 0 0,1 3,0Z\" style=\"opacity: 1; stroke-width: 0px; fill: rgb(220, 20, 60); fill-opacity: 1;\"/><path class=\"point\" transform=\"translate(190.21,115.13)\" d=\"M3,0A3,3 0 1,1 0,-3A3,3 0 0,1 3,0Z\" style=\"opacity: 1; stroke-width: 0px; fill: rgb(220, 20, 60); fill-opacity: 1;\"/><path class=\"point\" transform=\"translate(225.96,151.22)\" d=\"M3,0A3,3 0 1,1 0,-3A3,3 0 0,1 3,0Z\" style=\"opacity: 1; stroke-width: 0px; fill: rgb(220, 20, 60); fill-opacity: 1;\"/><path class=\"point\" transform=\"translate(177.53,163.81)\" d=\"M3,0A3,3 0 1,1 0,-3A3,3 0 0,1 3,0Z\" style=\"opacity: 1; stroke-width: 0px; fill: rgb(220, 20, 60); fill-opacity: 1;\"/><path class=\"point\" transform=\"translate(167.61,195.97)\" d=\"M3,0A3,3 0 1,1 0,-3A3,3 0 0,1 3,0Z\" style=\"opacity: 1; stroke-width: 0px; fill: rgb(220, 20, 60); fill-opacity: 1;\"/><path class=\"point\" transform=\"translate(131.98,177.56)\" d=\"M3,0A3,3 0 1,1 0,-3A3,3 0 0,1 3,0Z\" style=\"opacity: 1; stroke-width: 0px; fill: rgb(220, 20, 60); fill-opacity: 1;\"/><path class=\"point\" transform=\"translate(104.05,214.87)\" d=\"M3,0A3,3 0 1,1 0,-3A3,3 0 0,1 3,0Z\" style=\"opacity: 1; stroke-width: 0px; fill: rgb(220, 20, 60); fill-opacity: 1;\"/><path class=\"point\" transform=\"translate(85.21,180.11)\" d=\"M3,0A3,3 0 1,1 0,-3A3,3 0 0,1 3,0Z\" style=\"opacity: 1; stroke-width: 0px; fill: rgb(220, 20, 60); fill-opacity: 1;\"/><path class=\"point\" transform=\"translate(54.48,172.11)\" d=\"M3,0A3,3 0 1,1 0,-3A3,3 0 0,1 3,0Z\" style=\"opacity: 1; stroke-width: 0px; fill: rgb(220, 20, 60); fill-opacity: 1;\"/><path class=\"point\" transform=\"translate(38.6,145.09)\" d=\"M3,0A3,3 0 1,1 0,-3A3,3 0 0,1 3,0Z\" style=\"opacity: 1; stroke-width: 0px; fill: rgb(220, 20, 60); fill-opacity: 1;\"/><path class=\"point\" transform=\"translate(46.51,114.55)\" d=\"M3,0A3,3 0 1,1 0,-3A3,3 0 0,1 3,0Z\" style=\"opacity: 1; stroke-width: 0px; fill: rgb(220, 20, 60); fill-opacity: 1;\"/><path class=\"point\" transform=\"translate(25.37,73.63)\" d=\"M3,0A3,3 0 1,1 0,-3A3,3 0 0,1 3,0Z\" style=\"opacity: 1; stroke-width: 0px; fill: rgb(220, 20, 60); fill-opacity: 1;\"/><path class=\"point\" transform=\"translate(57.53,51.32)\" d=\"M3,0A3,3 0 1,1 0,-3A3,3 0 0,1 3,0Z\" style=\"opacity: 1; stroke-width: 0px; fill: rgb(220, 20, 60); fill-opacity: 1;\"/><path class=\"point\" transform=\"translate(92.02,45.41)\" d=\"M3,0A3,3 0 1,1 0,-3A3,3 0 0,1 3,0Z\" style=\"opacity: 1; stroke-width: 0px; fill: rgb(220, 20, 60); fill-opacity: 1;\"/></g><g class=\"text\"/></g></g></g><g class=\"polarsublayer angular-line\"><path d=\"M121.49999999999999,0A121.49999999999999,121.49999999999999 0,1,0 -121.49999999999999,-1.487945860964034e-14A121.49999999999999,121.49999999999999 0,1,0 121.49999999999999,2.975891721928068e-14Z\" transform=\"translate(498.5,235)\" stroke-width=\"1\" style=\"fill: none; stroke: rgb(255, 255, 255); stroke-opacity: 1;\"/></g><g class=\"polarsublayer radial-line\"><line display=\"none\" style=\"fill: none; stroke: rgb(0, 0, 0); stroke-opacity: 1;\"/></g><g class=\"polarsublayer angular-axis\"><g class=\"angularaxistick\"><text text-anchor=\"middle\" x=\"2.2655965784226036e-16\" y=\"-6.9\" transform=\"translate(498.5,113.50000000000001)\" style=\"font-family: 'Open Sans', verdana, arial, sans-serif; font-size: 16px; fill: rgb(0, 0, 128); fill-opacity: 1; white-space: pre;\">SDG1</text></g><g class=\"angularaxistick\"><text text-anchor=\"start\" x=\"1.3365941648924662\" y=\"-4.411105052241998\" transform=\"translate(542.390862441739,121.70462412737078)\" style=\"font-family: 'Open Sans', verdana, arial, sans-serif; font-size: 16px; fill: rgb(0, 0, 128); fill-opacity: 1; white-space: pre;\">SDG2</text></g><g class=\"angularaxistick\"><text text-anchor=\"start\" x=\"2.4926738814922618\" y=\"-1.3264659244018278\" transform=\"translate(580.3540207030567,145.21041655768994)\" style=\"font-family: 'Open Sans', verdana, arial, sans-serif; font-size: 16px; fill: rgb(0, 0, 128); fill-opacity: 1; white-space: pre;\">SDG3</text></g><g class=\"angularaxistick\"><text text-anchor=\"start\" x=\"3.312104178013731\" y=\"1.9373197767302344\" transform=\"translate(607.2623398996401,180.8427897731506)\" style=\"font-family: 'Open Sans', verdana, arial, sans-serif; font-size: 16px; fill: rgb(0, 0, 128); fill-opacity: 1; white-space: pre;\">SDG4</text></g><g class=\"angularaxistick\"><text text-anchor=\"start\" x=\"3.6842164522916283\" y=\"4.939459706955409\" transform=\"translate(619.4817024198467,223.7893943252088)\" style=\"font-family: 'Open Sans', verdana, arial, sans-serif; font-size: 16px; fill: rgb(0, 0, 128); fill-opacity: 1; white-space: pre;\">SDG5</text></g><g class=\"angularaxistick\"><text text-anchor=\"start\" x=\"3.5587548797394306\" y=\"10.77738450618782\" transform=\"translate(615.3618156454975,268.25005329375807)\" style=\"font-family: 'Open Sans', verdana, arial, sans-serif; font-size: 16px; fill: rgb(0, 0, 128); fill-opacity: 1; white-space: pre;\">SDG6</text></g><g class=\"angularaxistick\"><text text-anchor=\"start\" x=\"2.9526637409368863\" y=\"16.34079880944069\" transform=\"translate(595.4590931145491,308.22010832007965)\" style=\"font-family: 'Open Sans', verdana, arial, sans-serif; font-size: 16px; fill: rgb(0, 0, 128); fill-opacity: 1; white-space: pre;\">SDG7</text></g><g class=\"angularaxistick\"><text text-anchor=\"start\" x=\"1.9477990026462175\" y=\"19.69729768598659\" transform=\"translate(562.4615077895987,338.3013819911481)\" style=\"font-family: 'Open Sans', verdana, arial, sans-serif; font-size: 16px; fill: rgb(0, 0, 128); fill-opacity: 1; white-space: pre;\">SDG8</text></g><g class=\"angularaxistick\"><text text-anchor=\"start\" x=\"0.6798732159213102\" y=\"20.393567363545657\" transform=\"translate(520.8255664147133,354.43123161159406)\" style=\"font-family: 'Open Sans', verdana, arial, sans-serif; font-size: 16px; fill: rgb(0, 0, 128); fill-opacity: 1; white-space: pre;\">SDG9</text></g><g class=\"angularaxistick\"><text text-anchor=\"end\" x=\"-0.6798732159213098\" y=\"20.393567363545657\" transform=\"translate(476.17443358528675,354.43123161159406)\" style=\"font-family: 'Open Sans', verdana, arial, sans-serif; font-size: 16px; fill: rgb(0, 0, 128); fill-opacity: 1; white-space: pre;\">SDG10</text></g><g class=\"angularaxistick\"><text text-anchor=\"end\" x=\"-1.947799002646217\" y=\"19.69729768598659\" transform=\"translate(434.5384922104013,338.3013819911481)\" style=\"font-family: 'Open Sans', verdana, arial, sans-serif; font-size: 16px; fill: rgb(0, 0, 128); fill-opacity: 1; white-space: pre;\">SDG11</text></g><g class=\"angularaxistick\"><text text-anchor=\"end\" x=\"-2.952663740936884\" y=\"16.340798809440706\" transform=\"translate(401.54090688545097,308.22010832007976)\" style=\"font-family: 'Open Sans', verdana, arial, sans-serif; font-size: 16px; fill: rgb(0, 0, 128); fill-opacity: 1; white-space: pre;\">SDG12</text></g><g class=\"angularaxistick\"><text text-anchor=\"end\" x=\"-3.5587548797394306\" y=\"10.777384506187822\" transform=\"translate(381.6381843545025,268.25005329375807)\" style=\"font-family: 'Open Sans', verdana, arial, sans-serif; font-size: 16px; fill: rgb(0, 0, 128); fill-opacity: 1; white-space: pre;\">SDG13</text></g><g class=\"angularaxistick\"><text text-anchor=\"end\" x=\"-3.684216452291628\" y=\"4.939459706955406\" transform=\"translate(377.51829758015333,223.78939432520875)\" style=\"font-family: 'Open Sans', verdana, arial, sans-serif; font-size: 16px; fill: rgb(0, 0, 128); fill-opacity: 1; white-space: pre;\">SDG14</text></g><g class=\"angularaxistick\"><text text-anchor=\"end\" x=\"-3.3121041780137315\" y=\"1.9373197767302397\" transform=\"translate(389.7376601003599,180.84278977315068)\" style=\"font-family: 'Open Sans', verdana, arial, sans-serif; font-size: 16px; fill: rgb(0, 0, 128); fill-opacity: 1; white-space: pre;\">SDG15</text></g><g class=\"angularaxistick\"><text text-anchor=\"end\" x=\"-2.492673881492264\" y=\"-1.326465924401821\" transform=\"translate(416.6459792969432,145.21041655769)\" style=\"font-family: 'Open Sans', verdana, arial, sans-serif; font-size: 16px; fill: rgb(0, 0, 128); fill-opacity: 1; white-space: pre;\">SDG16</text></g><g class=\"angularaxistick\"><text text-anchor=\"end\" x=\"-1.3365941648924662\" y=\"-4.411105052241998\" transform=\"translate(454.6091375582609,121.70462412737078)\" style=\"font-family: 'Open Sans', verdana, arial, sans-serif; font-size: 16px; fill: rgb(0, 0, 128); fill-opacity: 1; white-space: pre;\">SDG17</text></g></g><g class=\"polarsublayer radial-axis\" transform=\"translate(498.5,235)rotate(-90)\"><g class=\"xtick\"><text text-anchor=\"start\" x=\"1.75\" y=\"5.5\" transform=\"translate(30.37,0) rotate(90,1.75,0.5)\" style=\"font-family: 'Open Sans', verdana, arial, sans-serif; font-size: 10px; fill: rgb(0, 0, 128); fill-opacity: 1; white-space: pre;\">25%</text></g><g class=\"xtick\"><text text-anchor=\"start\" x=\"1.75\" y=\"5.5\" transform=\"translate(60.75,0) rotate(90,1.75,0.5)\" style=\"font-family: 'Open Sans', verdana, arial, sans-serif; font-size: 10px; fill: rgb(0, 0, 128); fill-opacity: 1; white-space: pre;\">50%</text></g><g class=\"xtick\"><text text-anchor=\"start\" x=\"1.75\" y=\"5.5\" transform=\"translate(91.12,0) rotate(90,1.75,0.5)\" style=\"font-family: 'Open Sans', verdana, arial, sans-serif; font-size: 10px; fill: rgb(0, 0, 128); fill-opacity: 1; white-space: pre;\">75%</text></g></g></g></g><g class=\"ternarylayer\"/><g class=\"geolayer\"/><g class=\"funnelarealayer\"/><g class=\"pielayer\"/><g class=\"treemaplayer\"/><g class=\"sunburstlayer\"/><g class=\"glimages\"/><defs id=\"topdefs-68e784\"><g class=\"clips\"/></defs><g class=\"layer-above\"><g class=\"imagelayer\"/><g class=\"shapelayer\"/></g><g class=\"infolayer\"><g class=\"g-gtitle\"><text class=\"gtitle\" x=\"35\" y=\"50\" text-anchor=\"start\" dy=\"0em\" style=\"font-family: 'Open Sans', verdana, arial, sans-serif; font-size: 17px; fill: rgb(42, 63, 95); opacity: 1; font-weight: normal; white-space: pre;\">Poland: Percent of SDG Goals Completed</text></g><g class=\"g-polartitle\"/><g class=\"g-polar2title\"/></g></svg>"
      ]
     },
     "metadata": {},
     "output_type": "display_data"
    }
   ],
   "source": [
    "import plotly.graph_objects as go\n",
    "from plotly.subplots import make_subplots\n",
    "import plotly.io as pio\n",
    "pio.renderers.default = \"svg\"\n",
    "\n",
    "fig = make_subplots(rows=1, cols=2, specs = [[{'type': 'polar'}, {'type' : 'polar'}]])\n",
    "\n",
    "fig.add_trace(\n",
    "    go.Barpolar(\n",
    "        r=goals['Poland'],\n",
    "        theta=goals['goal'],\n",
    "        width=1,\n",
    "        marker_color = 'crimson',\n",
    "        opacity = 0.6,\n",
    "        marker_line_color=\"navy\",\n",
    "        marker_line_width=2,\n",
    "        showlegend = False),\n",
    "    row=1, col=1\n",
    ")\n",
    "\n",
    "fig.add_trace(\n",
    "    go.Scatterpolar(\n",
    "        r=goals['Poland'], \n",
    "        theta = goals['goal'], \n",
    "        line_color = 'crimson', \n",
    "        opacity = 0.9, \n",
    "        fill = 'toself',\n",
    "        showlegend = False),\n",
    "    row = 1, col = 2\n",
    ")\n",
    "radialaxis_layout = dict(range=(0,100), \n",
    "                         color = 'navy', \n",
    "                         showline = False, \n",
    "                         angle = 90, \n",
    "                         tickvals = [25,50,75], \n",
    "                         tickangle = 90,\n",
    "                         tickfont_size = 10, \n",
    "                         ticksuffix = '%')\n",
    "\n",
    "angularaxis_layout = dict(rotation = 90, \n",
    "                          direction = 'clockwise', \n",
    "                          color = 'navy', \n",
    "                          tickprefix = 'SDG', \n",
    "                          tickfont_size = 16)\n",
    "\n",
    "fig.update_polars(radialaxis = radialaxis_layout, \n",
    "                  angularaxis = angularaxis_layout,\n",
    "                 bgcolor = 'powderblue')\n",
    "\n",
    "fig.update_polars(radialaxis_showticklabels = False, col = 1)\n",
    "\n",
    "fig.update_layout(height=500, width=1000, title_text=\"Poland: Percent of SDG Goals Completed\")\n",
    "fig.show()"
   ]
  },
  {
   "cell_type": "markdown",
   "metadata": {},
   "source": [
    "These two graphs present the same information slightly differently. On the polar bar chart at left, each wedge represents the percentage of progress toward the optimal level in that goal. On the polar scatter chart at right, the points representing each goal's percentage are connected to form a polygon. The larger the overall area of this polygon, the more overall progress a country is making toward all goals.\n",
    "\n",
    "As before, we can see that goals 6 and 15 are highest, and goal 9 is lowest. The left graph is slightly easier to read, yet the graph at right is easier to overlay with other countries, so we will use it in what follows. First we compare Poland's progress with that of the EU."
   ]
  },
  {
   "cell_type": "code",
   "execution_count": null,
   "metadata": {},
   "outputs": [],
   "source": [
    "fig = go.Figure()\n",
    "fig.add_trace(go.Scatterpolar(r=goals['European Union'], theta = goals['goal'], \n",
    "                              name = 'EU', line_color = 'dodgerblue', opacity = 1 ))\n",
    "fig.add_trace(go.Scatterpolar(r=goals['Poland'], theta = goals['goal'], \n",
    "                              name = 'Poland', line_color = 'crimson', opacity = .9))\n",
    "fig.update_traces(fill='toself')\n",
    "\n",
    "fig.update_polars(radialaxis = radialaxis_layout, \n",
    "                  angularaxis = angularaxis_layout,\n",
    "                  bgcolor = 'gainsboro')\n",
    "\n",
    "fig.show()"
   ]
  },
  {
   "cell_type": "markdown",
   "metadata": {},
   "source": [
    "From the above we can see that Poland appears to be doing similarly to the EU average on many goals. This agrees with its overall middle-of-the-pack ranking of 16/31. \n",
    "\n",
    "Poland is below the EU average in:\n",
    "- SDG 9: Industry, Innovation and Infrastructure - far below average\n",
    "- SDG 3: Health and Wellbeing\n",
    "- SDG 5: Gender Equality\n",
    "- SDG 7: Affordable and Clean Energy\n",
    "- SDG 11: Sustainable Cities & Communities\n",
    "- SDG 14: Life Below Water\n",
    "\n",
    "It's furthest above average in:\n",
    "- SDG 4: Quality Education\n",
    "- SDG 15: Life on Land\n",
    "\n",
    "Most surprisingly to me, it is overperforming the average in 12&13 - Responsible Consumption/Production & Climate Action. This is surprising given Poland's heavy reliance on coal and reluctance to commit to EU decarbonization goals. \n",
    "\n",
    "Let's visualize how Poland compares to the highest and lowest ranked countries, to get a sense of the amount of variation within Europe."
   ]
  },
  {
   "cell_type": "code",
   "execution_count": null,
   "metadata": {},
   "outputs": [],
   "source": [
    "sdg_current.loc[(sdg_current['2020 EU SDG Index Rank'] == 1) | \n",
    "                (sdg_current['2020 EU SDG Index Rank'] == 31),'Country']"
   ]
  },
  {
   "cell_type": "code",
   "execution_count": null,
   "metadata": {},
   "outputs": [],
   "source": [
    "fig = go.Figure()\n",
    "fig.add_trace(go.Scatterpolar(r=goals['Finland'], theta = goals['goal'], \n",
    "                              name = 'Finland', line_color='mediumblue', opacity = .8))\n",
    "fig.add_trace(go.Scatterpolar(r=goals['Poland'], theta = goals['goal'], \n",
    "                              name = 'Poland', line_color = 'crimson', opacity = .9))\n",
    "fig.add_trace(go.Scatterpolar(r=goals['Bulgaria'], theta = goals['goal'], \n",
    "                              name = 'Bulgaria', line_color = 'mediumseagreen', opacity = .8 ))\n",
    "\n",
    "fig.update_traces(fill='toself')\n",
    "\n",
    "fig.update_polars(radialaxis = radialaxis_layout, \n",
    "                  angularaxis = angularaxis_layout,\n",
    "                  bgcolor = 'gainsboro')\n",
    "\n",
    "fig.show()"
   ]
  },
  {
   "cell_type": "markdown",
   "metadata": {},
   "source": [
    "Finland has made almost full progress on goals 3-11, 14, and 16. This suggests that these goals might be easier to address than goals such as Goal 2 (No Hunger) and 13 (Climate Action) that are low across Europe. Policies enacted in successful countries could be studied and possibly adapted to Poland. \n",
    "\n",
    "By comparing Poland's relative position between Bulgaria and Finland, we can also see that it has the greatest room for growth in goals 5, 7, 9, 11, and 14.\n",
    "\n",
    "Lastly, we'll compare Poland to the Central & Eastern Europe region average, to determine whether Poland matches this region more closely than the EU overall."
   ]
  },
  {
   "cell_type": "code",
   "execution_count": null,
   "metadata": {},
   "outputs": [],
   "source": [
    "fig = go.Figure()\n",
    "fig.add_trace(go.Scatterpolar(r=goals['Poland'], theta = goals['goal'], \n",
    "                              name = 'Poland', line_color = 'crimson', opacity = 1))\n",
    "fig.add_trace(go.Scatterpolar(r=goals['Central and Eastern Europe'], theta = goals['goal'], \n",
    "                              name = 'Central/East Europe', line_color = 'turquoise', opacity = .8 ))\n",
    "\n",
    "fig.update_traces(fill='toself')\n",
    "\n",
    "fig.update_polars(radialaxis = radialaxis_layout, \n",
    "                  angularaxis = angularaxis_layout,\n",
    "                  bgcolor = 'gainsboro')\n",
    "\n",
    "fig.show()"
   ]
  },
  {
   "cell_type": "markdown",
   "metadata": {},
   "source": [
    "Poland's progress appears to be close to average within the Central & Eastern Europe region for most goals, through it does outperform on SDGs 1 (No Poverty), 4 (Education), and 17 (Partnerships), and underperforms on Goal 14 (Life on Water).\n",
    "\n",
    "## Determining Priority SDGs for Poland\n",
    "\n",
    "Based on the data above, we suggest the following goals might be good candidates for Poland to focus on because (1) they are below the EU average, so there is an opportunity for bigger change, and (2) Finland has much higher scores, so this change has been attainable in at least one European country.\n",
    "\n",
    "- Goal 9 (Industry, Innovation, Infrastructure)\n",
    "- Goal 14 (Life below Water)\n",
    "- Goal 5 (Gender Equality)\n",
    "- Goal 7 (Clean Energy)\n",
    "- Goal 11 (Sustainability)\n",
    "\n",
    "The last three are also low-scoring goals for the EU overall, on average."
   ]
  },
  {
   "cell_type": "markdown",
   "metadata": {},
   "source": [
    "## Correlation between Goals\n",
    "\n",
    "Before we investigate each of these goals, we check whether there are any significant correlations between the SDG goals. It would make sense to work strategically on correlated goals as they're more likely to benefit each other."
   ]
  },
  {
   "cell_type": "code",
   "execution_count": null,
   "metadata": {},
   "outputs": [],
   "source": [
    "import numpy as np\n",
    "\n",
    "#df: rows are countries, cols are goals\n",
    "goals_transpose = goals.set_index('goal').transpose().reset_index()\n",
    "\n",
    "goals_corr = round(goals_transpose.corr(),2)\n",
    "\n",
    "#creates upper triangular matrix of 1s with same size as goal_corr\n",
    "mask_ut=np.triu(np.ones(goals_corr.shape)).astype(np.bool)\n",
    "\n",
    "#plot heatmap of correlations\n",
    "fig = plt.figure(figsize = (20,10))\n",
    "ax = plt.subplot(1,2,1)\n",
    "sns.heatmap(goals_corr, annot = True, vmin = -1, vmax = 1, cmap = 'Spectral', ax = ax)\n",
    "\n",
    "ax2 = plt.subplot(1,2,2)\n",
    "sns.heatmap(goals_corr, annot = True, mask = mask_ut, vmin = -1, vmax = 1, cmap = 'Spectral', ax = ax2)\n",
    "\n",
    "plt.show()"
   ]
  },
  {
   "cell_type": "markdown",
   "metadata": {},
   "source": [
    "In the above we can see positive correlations represented as green/blue and negative as orange/red. From the left graph one can more easily see the correlations of individual goals (rows) and on the right we can more easily see the overall trend of correlation. The strongest correlations are between:\n",
    "- Goals 1 and 10 - eliminating poverty and reducing inequality. This is intuitively reasonable. \n",
    "- Goals 3 and 9 - health and industry/innovation. This is more surprising, but could perhaps reflect better health care systems and medical technology in countries that score highly in both Goals.\n",
    "\n",
    "Goals 3-11 appear to be the most strongly correlated with other goals (especially each other). This could be due to many European countries having higher scores in these goals. Interestingly, SDG 13 (Climate Action) is negatively correlated with most other goals including SDG 7 (Affordable and Clean Energy). Although it is outside the scope of this analysis, it is worth further investigation. SDGs 2, 12, 15, 17 also have more negative or weak correlations; all but SDG 15 were in the lower averages.\n",
    "\n",
    "## Individual SDG Analysis\n",
    "\n",
    "Let's investigate some of the SDGs we identified earlier as being potential priorities for Poland. We see that SDG 9 (Innovation) is most strongly correlated with goals 3, 11, 5, and 1 in that order. Since correlation is only valid for linear data, we use a scatter plot to verify it is linear."
   ]
  },
  {
   "cell_type": "code",
   "execution_count": null,
   "metadata": {},
   "outputs": [],
   "source": [
    "fig = plt.figure(figsize=(16,4))\n",
    "\n",
    "goal_list = [3, 11, 5, 1]\n",
    "ylabel_list = ['Goal 3: Good Health', 'Goal 11: Sustainable Cities', 'Goal 5: Gender Equality', 'Goal 1: No Poverty' ]\n",
    "\n",
    "for i in range(4):\n",
    "    num = goal_list[i]\n",
    "    ax = fig.add_subplot(1,4,i+1)\n",
    "    #plot goal i\n",
    "    ax.scatter(goals_transpose['9'],\n",
    "               goals_transpose['{}'.format(goal_list[i])],\n",
    "               color = 'dodgerblue')\n",
    "    #plot Poland as separate point\n",
    "    ax.scatter(goals_transpose.loc[15, '9'], \n",
    "               goals_transpose.loc[15, '{}'.format(num)], \n",
    "               marker='o', s=50, color = 'red', label = 'Poland')\n",
    "    ax.set_xlim(0,100)\n",
    "    ax.set_ylim(0,100)\n",
    "    ax.set_xlabel('Goal 9: Innovation')\n",
    "    ax.set_ylabel(ylabel_list[i])\n",
    "\n",
    "sns.despine()\n",
    "fig.tight_layout()\n",
    "plt.legend(loc = 'upper right')\n",
    "plt.show()"
   ]
  },
  {
   "cell_type": "markdown",
   "metadata": {},
   "source": [
    "The data does indeed appear linear and encompasses a wide range in each variable. In particular, in SDGs 5 (Gender Equality) and 11 (Sustainabile Cities) Poland is significantly lower than the top countries, so could make progress on these in tandem with SDG 9 (Innovation).\n",
    "\n",
    "For the other possible priority goals, Goal 7 (Affordable and Clean Energy)'s highest correlation is with Goal 5 (Gender Equality), but r = 0.67, which is only moderate. Still, it seems that most of the chosen goals are interrelated. Goal 14 (Life Below Water) is the exception - its only correlation above 0.5 is with Goal 15 (Life on Land), at r = 0.55. It seems reasonable that biological preservation in water and on land would be connected, and we will investigate this further later. Next we'll focus on Goal 9, as it is the furthest from the EU average."
   ]
  },
  {
   "cell_type": "markdown",
   "metadata": {},
   "source": [
    "## Goal 9 : Innovation, Industry and Infrastructure\n",
    "\n",
    "Each goal is composed of several sub-indicators. As stated in the documentation, the sub-indicators for Goal 9 are:\n",
    "\n",
    "Label | Explanation\n",
    " :--- | :---\n",
    "sdg9_eurd | Gross domestic expenditure on R&D (% of GDP) \n",
    "sdg9_rdperson | R&D personnel (% of active population)\n",
    "sdg9_epo | Patent applications to the European Patent Office (per 1,000,000 population)\n",
    "sdg9_bband | Households with broadband access (%)\n",
    "sdg9_bbandgap | Gap in broadband access, urban vs rural areas (p.p.)\n",
    "sdg9_digital | Individuals aged 55 to 74 years old who have basic or above basic digital skills (%)\n",
    "sdg9_lpi | Logistics performance index: Quality of trade and transport-related infrastructure (worst 1–5 best) \n",
    "sdg9_qs | The Times Higher Education Universities Ranking: Average score of top 3 universities (worst 0–100 best)\n",
    "sdg9_articles | Scientific and technical journal articles (per 1,000 population)\n",
    "\n",
    "These absolute values have been normalized onto a 0-100 scale based on the SDSN's expert judgments; roughly, 100% represents the goal being completely met, 0% represents the lowest possible value or lowest among all countries.\n",
    "\n",
    "Below we find Poland's score for each sub-indicator."
   ]
  },
  {
   "cell_type": "code",
   "execution_count": null,
   "metadata": {},
   "outputs": [],
   "source": [
    "#Creating df of Goal 9 scores for all countries\n",
    "goal9 = sdg_current.filter(regex = 'Country|^Normalized Score sdg9', axis = 1)[0:30].copy()\n",
    "\n",
    "#shorten column names\n",
    "goal9.columns = [item[-1] for item in goal9.columns.str.split()]\n",
    "\n",
    "goal9[goal9['Country'] == 'Poland']"
   ]
  },
  {
   "cell_type": "markdown",
   "metadata": {},
   "source": [
    "We can see that Poland scored lowest in patents, digital skills, R&D spending and personnel. Below, we compare these scores to the overall distribution of Europe's scores, as well as to the SDSN report's \"green\" threshold, which indicates a sub-indicator is achieved or on track to be achieved by 2030."
   ]
  },
  {
   "cell_type": "code",
   "execution_count": null,
   "metadata": {},
   "outputs": [],
   "source": [
    "fig, ax = plt.subplots(figsize = (8,6))\n",
    "\n",
    "#boxplot of all countries\n",
    "goal9.boxplot(vert = False, ax = ax, color = '#1e90ff').invert_yaxis()\n",
    "ylabels = ['R&D Spending', 'R&D Personnel', 'Patents', 'Broadband Access', 'Broadband Gap',\n",
    "          'Digital Skills', 'Logistics', 'Higher Ed', 'Articles']\n",
    "ax.set_yticklabels(ylabels)\n",
    "ax.grid(False)\n",
    "ax.yaxis.set_ticks_position(\"right\")\n",
    "ax.tick_params(axis = 'y', labelsize = 12)\n",
    "\n",
    "#mark poland\n",
    "poland_x = goal9[goal9['Country'] == 'Poland'].iloc[0,1:10].tolist()\n",
    "from numpy import arange\n",
    "y_coords = arange(1,10)\n",
    "plt.scatter(x = poland_x, y = y_coords, marker = \"d\", color = 'crimson', label = 'Poland')\n",
    "\n",
    "#mark threshold for \"green\"; values taken from documentation\n",
    "green9 = np.array([1.5, 1, 80, 80, 10, 35, 3, 30, 0.7])\n",
    "max9 = np.array([3.3, 2, 240, 96, 0, 65, 4.2, 50, 1.2])\n",
    "min9 = np.array([0.4, 0.3, 3, 60, 26, 5, 1.8, 0, 0])\n",
    "\n",
    "#calculate normalized green threshold\n",
    "green9_norm = (green9 - min9)/(max9 - min9) * 100\n",
    "\n",
    "plt.scatter(x = green9_norm, y = y_coords, marker = \">\", color = 'seagreen', label = 'Green Threshold')\n",
    "plt.xlabel('% Achieved')\n",
    "plt.legend()\n",
    "sns.despine(right = False, left = True)\n",
    "\n",
    "plt.show()"
   ]
  },
  {
   "cell_type": "markdown",
   "metadata": {},
   "source": [
    "Now we see that Poland is in the lowest 25% of European countries in terms of Digital Skills, Number of Articles, Higher Ed Rankings, and Patents. All nine sub-indicators are below the median. Despite this, Poland is still above the \"green threshold\" for several sub-indicators - including Articles - because much or all of Europe is. When considering both relative position and green threshold, it appears that Digital Skills, Patents, and R&D Spending could be areas of strategic focus.\n",
    "\n",
    "## Trends in Sub-indicators\n",
    "\n",
    "We can get additional context for progress in these sub-indicators by looking at trends over time. For this we'll use the second database containing trend data."
   ]
  },
  {
   "cell_type": "code",
   "execution_count": null,
   "metadata": {},
   "outputs": [],
   "source": [
    "sdg_trends = pd.read_csv('SDG_Europe_data.csv', sep = ';', decimal = ',')"
   ]
  },
  {
   "cell_type": "code",
   "execution_count": null,
   "metadata": {},
   "outputs": [],
   "source": [
    "print(sdg_trends.shape)\n",
    "\n",
    "sdg_trends.head()"
   ]
  },
  {
   "cell_type": "markdown",
   "metadata": {},
   "source": [
    "## Exploring and Cleaning the Trends Data \n",
    "\n",
    "As seen above, each row represents a country in a particular year. Not all indicators have data for each of the years.\n",
    "Columns include country, id, year, population, and region in addition to each SDG sub-indicator.\n",
    "\n",
    "We confirm the date range of our data and the that the countries are as expected:"
   ]
  },
  {
   "cell_type": "code",
   "execution_count": null,
   "metadata": {},
   "outputs": [],
   "source": [
    "sdg_trends['year'].unique()"
   ]
  },
  {
   "cell_type": "code",
   "execution_count": null,
   "metadata": {},
   "outputs": [],
   "source": [
    "sdg_trends['country'].unique()"
   ]
  },
  {
   "cell_type": "markdown",
   "metadata": {},
   "source": [
    "The data ranges from 2000-2020, as expected.\n",
    "\n",
    "In addition to the 32 countries expected, there are aggregate rows for the EU, Baltic States, Central and Eastern Europe, EFTA Countries, Northern Europe, Southern Europe, and Western Europe. (move this to earlier)\n",
    "\n",
    "We check null values to address any gaps in the data:"
   ]
  },
  {
   "cell_type": "code",
   "execution_count": null,
   "metadata": {},
   "outputs": [],
   "source": [
    "print('Total null values:' , sdg_trends.isnull().sum().sum())\n",
    "\n",
    "fig = plt.figure(figsize =(16,4))\n",
    "sns.heatmap(sdg_trends.notnull()).set(xticklabels = [])\n",
    "plt.show()"
   ]
  },
  {
   "cell_type": "markdown",
   "metadata": {},
   "source": [
    "There are numerous sub-indicators with null values so we'll need to watch this as we select specific ones. There's also a gap in data around row 400 corresponding to Liechtenstein, so we'll drop Liechtenstein's rows from the set as well. The other horizontal groups of null values are frequently for years 2019-20."
   ]
  },
  {
   "cell_type": "code",
   "execution_count": null,
   "metadata": {},
   "outputs": [],
   "source": [
    "sdg_trends = sdg_trends[sdg_trends['country'] != 'Liechtenstein'].reset_index().copy()"
   ]
  },
  {
   "cell_type": "markdown",
   "metadata": {},
   "source": [
    "## Goal 9 Subindicators\n",
    "\n",
    "Let's examine the trend data for goal 9 sub-indicators for Poland to determine if there is any useful information."
   ]
  },
  {
   "cell_type": "code",
   "execution_count": null,
   "metadata": {},
   "outputs": [],
   "source": [
    "sdg9_sub_poland = sdg_trends.filter(regex = 'year|sdg9', axis = 1)[sdg_trends['country'] == 'Poland']\n",
    "\n",
    "sdg9_sub_poland.notnull().sum().sort_values(ascending = False)"
   ]
  },
  {
   "cell_type": "markdown",
   "metadata": {},
   "source": [
    "We'll graph all indicators with 10 or more data points."
   ]
  },
  {
   "cell_type": "code",
   "execution_count": null,
   "metadata": {},
   "outputs": [],
   "source": [
    "sdg9_sub_poland_list = sdg9_sub_poland.notnull().sum().sort_values(ascending = False)[1:7].index\n",
    "\n",
    "ylabels = ['Articles', 'R&D Personnel', 'R&D Spending', 'Patents', 'Broadband', 'Broadband Gap']\n",
    "\n",
    "green9_list = [0.7, 1, 1.5, 80, 80, 10]\n",
    "\n",
    "fig = plt.figure(figsize = (12,8))\n",
    "for i in range(6):\n",
    "    ax = plt.subplot(3,2,i+1)\n",
    "    sns.lineplot(x = 'year', \n",
    "                 y = sdg9_sub_poland_list[i], \n",
    "                 data = sdg9_sub_poland, \n",
    "                 ax = ax, color = 'crimson', label = 'Poland', legend=False)\n",
    "    plt.xlim((2000,2019))\n",
    "    plt.axhline(green9_list[i], color = 'seagreen', label = 'Green Threshold')\n",
    "    ax.set_xticks([2000, 2010, 2020])\n",
    "    ax.set_xlabel('')\n",
    "    ax.set_yticks([])\n",
    "    ax.set_ylabel(ylabels[i])\n",
    "\n",
    "plt.legend(bbox_to_anchor = (1.5,3.5))\n",
    "plt.show()"
   ]
  },
  {
   "cell_type": "markdown",
   "metadata": {},
   "source": [
    "We identified Research Spending, Patents and Digital Skills as areas of potential improvement. The last we lack historical data for, but we can see in the above that Research Spending is consistently increasing and is likely to reach the green threshold if current patterns continue. Patents, on the other hand have been quite stagnant; policy or other intervention will be needed to increase them.\n",
    "\n",
    "Below, we identify countries in Europe and in the Central/Eastern region with highest scores for patents & digital skills, as they could suggest policies that might be useful in Poland."
   ]
  },
  {
   "cell_type": "code",
   "execution_count": null,
   "metadata": {},
   "outputs": [],
   "source": [
    "print('Top 4 Patents:')\n",
    "sdg_trends[sdg_trends['year']==2018][['country','sdg9_epo']].sort_values('sdg9_epo', ascending = False).head(4)"
   ]
  },
  {
   "cell_type": "code",
   "execution_count": null,
   "metadata": {},
   "outputs": [],
   "source": [
    "print('Top Central/East Europe Patents:')\n",
    "sdg_trends[(sdg_trends['year']==2018) & \n",
    "           (sdg_trends['Sub-region']=='Central and Eastern Europe')\n",
    "          ][['country','sdg9_epo']].sort_values('sdg9_epo', ascending = False).head(3)"
   ]
  },
  {
   "cell_type": "code",
   "execution_count": null,
   "metadata": {
    "scrolled": true
   },
   "outputs": [],
   "source": [
    "print('Top 3 Digital Skills:')\n",
    "sdg_trends[sdg_trends['year']==2019][['country','sdg9_digital']].sort_values('sdg9_digital', ascending = False).head(3)"
   ]
  },
  {
   "cell_type": "code",
   "execution_count": null,
   "metadata": {},
   "outputs": [],
   "source": [
    "print('Top Central/East Europe Digital Skills:')\n",
    "sdg_trends[(sdg_trends['year']==2019) & \n",
    "                     (sdg_trends['Sub-region']=='Central and Eastern Europe')\n",
    "                    ][['country','sdg9_digital']].sort_values('sdg9_digital', ascending = False).head(6)\n"
   ]
  },
  {
   "cell_type": "markdown",
   "metadata": {},
   "source": [
    "In Central & Eastern Europe, Czechia and Slovenia appear to be the best countries to model, while the Netherlands may be a useful exemplar for both.\n",
    "\n",
    "We will now analyze Goals 14, 5, 7, and 11 in a similar though less detailed fashion, to identify any sub-indicators that could be effective targets for improvement.\n",
    "\n",
    "## Goal 14: Life Below Water"
   ]
  },
  {
   "cell_type": "code",
   "execution_count": null,
   "metadata": {},
   "outputs": [],
   "source": [
    "goal_list = [14, 5, 7, 11]\n",
    "\n",
    "#create dictionary of subindicators for each of the four goals above\n",
    "priority_goals = {}\n",
    "\n",
    "for num in goal_list:\n",
    "    regex = 'Country|^Normalized Score sdg{}'.format(num)\n",
    "    df = sdg_current.filter(regex = regex, axis = 1)[0:30].copy()\n",
    "    df.columns = [item[-1] for item in df.columns.str.split()]\n",
    "    priority_goals[num] = df[df['Country'] == 'Poland']\n",
    "    \n",
    "priority_goals[14]"
   ]
  },
  {
   "cell_type": "markdown",
   "metadata": {},
   "source": [
    "The lowest normalized scores, from the documentation, are sdg14_bath : Bathing sites of excellent quality (according to bacterial tests), and sdg14_fishstocks: Fish caught from overexploited or collapsed stocks (% of total catch)\n",
    "\n",
    "We investigate the trends in these scores. Values below are the non-normalized values; bathing sites range from 25-100 with green threshold of 80+, while fishstocks ranges from 90.7 - 0 with a green threshold of 10 or below."
   ]
  },
  {
   "cell_type": "code",
   "execution_count": null,
   "metadata": {},
   "outputs": [],
   "source": [
    "sdg_trends[(sdg_trends['country']=='Poland') & \n",
    "           (sdg_trends['sdg14_bath'].notnull())\n",
    "          ][['year','sdg14_bath', 'sdg14_fishstocks']]"
   ]
  },
  {
   "cell_type": "markdown",
   "metadata": {},
   "source": [
    "It seems that Poland was above the red threshold every year except the last, which indicates either a sharp change or an issue with data collection. \n",
    "\n",
    "For fish stocks, the scores appears to be based on data from 2014 and prior, so may or may not reflect the current situation. Given the issues with quality and quantity of data in these scores, more research would need to be done to make meaningful analysis of this category.\n",
    "\n",
    "\n",
    "## Goal 5: Gender Equality"
   ]
  },
  {
   "cell_type": "code",
   "execution_count": null,
   "metadata": {},
   "outputs": [],
   "source": [
    "priority_goals[5]"
   ]
  },
  {
   "cell_type": "markdown",
   "metadata": {},
   "source": [
    "The last entry is null because it was deleted from the raw data, but from their published data we can insert Poland's value:"
   ]
  },
  {
   "cell_type": "code",
   "execution_count": null,
   "metadata": {},
   "outputs": [],
   "source": [
    "priority_goals[5].loc[15,'sdg5_wsafe'] = round((63 - 33)/(90-33)*100,3)\n",
    "\n",
    "priority_goals[5]"
   ]
  },
  {
   "cell_type": "markdown",
   "metadata": {},
   "source": [
    "The two lowest normalized scores are % of women in parliament and % of women in management. Let's examine whether these are on track, and how they compare to the average EU progress."
   ]
  },
  {
   "cell_type": "code",
   "execution_count": null,
   "metadata": {},
   "outputs": [],
   "source": [
    "sns.set_style('darkgrid')\n",
    "\n",
    "fig, axes = plt.subplots(1,2, sharey=True, figsize = (12,4))\n",
    "\n",
    "plt.suptitle('Women in Leadership Positions', size = 14)\n",
    "\n",
    "sdg_trends[sdg_trends['country']=='Poland'].plot(x = 'year', \n",
    "                                                 y = ['sdg5_wparl', 'sdg5_wmanage'], \n",
    "                                                 label = ['Parliament','Management'],\n",
    "                                                 ax = axes[0],\n",
    "                                                 title = 'Poland',\n",
    "                                                 legend = False)\n",
    "\n",
    "sdg_trends[sdg_trends['country']=='European Union'].plot(x = 'year', \n",
    "                                                         y = ['sdg5_wparl', 'sdg5_wmanage'], \n",
    "                                                         label = ['Parliament','Management'],\n",
    "                                                         ax = axes[1],\n",
    "                                                         title = 'EU',\n",
    "                                                         legend = False)\n",
    "for axis in axes:\n",
    "    axis.axhline(40, color = 'green', label = 'Green Threshold')\n",
    "    axis.set(ylim = (0,50), \n",
    "             ylabel = 'Percentage', \n",
    "             xticks = [2004+4*i for i in range(0,5)], \n",
    "             xlabel = 'Year',             \n",
    "            )\n",
    "    axis.tick_params(labelsize = 12)\n",
    "\n",
    "plt.legend(bbox_to_anchor = (1.05,1))\n",
    "\n",
    "plt.show()"
   ]
  },
  {
   "cell_type": "markdown",
   "metadata": {},
   "source": [
    "There is slight but slow progress, considerably less than the EU average. This is an area that will likely need active intervention to achieve at least 40% women.\n",
    "\n",
    "\n",
    "## Goal 7: Affordable and Clean Energy"
   ]
  },
  {
   "cell_type": "code",
   "execution_count": null,
   "metadata": {},
   "outputs": [],
   "source": [
    "priority_goals[7]"
   ]
  },
  {
   "cell_type": "markdown",
   "metadata": {},
   "source": [
    "The lowest normalized score is certainly sdg7_eurenew, representing how much of Poland's energy comes from renewable sources. It is well-known that Poland is still heavily dependent on coal. This is reflected in the graphs below."
   ]
  },
  {
   "cell_type": "code",
   "execution_count": null,
   "metadata": {},
   "outputs": [],
   "source": [
    "fig, (ax1, ax2) = plt.subplots(1,2, figsize = (12,4))\n",
    "\n",
    "sdg_trends[sdg_trends['country']=='Poland'].plot(x = 'year', \n",
    "                                                 y = 'sdg7_eurenew', \n",
    "                                                 ax = ax1,\n",
    "                                                 label = 'Poland',\n",
    "                                                 color = 'crimson'\n",
    "                                                )\n",
    "sdg_trends[sdg_trends['country']=='European Union'].plot(x = 'year', \n",
    "                                                         y = 'sdg7_eurenew', \n",
    "                                                         ax = ax1,\n",
    "                                                         label = 'EU',\n",
    "                                                         color = 'dodgerblue'\n",
    "                                                        )\n",
    "ax1.set(ylim=(0,50),\n",
    "        ylabel = '%'\n",
    "       )\n",
    "ax1.set_title('Percentage of Energy from Renewables', fontsize = 14)\n",
    "ax1.axhline(30, color = 'green')\n",
    "\n",
    "sdg_trends[sdg_trends['country']=='Poland'].plot(x = 'year', \n",
    "                                                 y = 'sdg7_co2twh', \n",
    "                                                 ax = ax2,\n",
    "                                                 label = 'Poland',\n",
    "                                                 color = 'crimson'\n",
    "                                                )\n",
    "sdg_trends[sdg_trends['country']=='European Union'].plot(x = 'year', \n",
    "                                                         y = 'sdg7_co2twh', \n",
    "                                                         ax = ax2,\n",
    "                                                         label = 'EU',\n",
    "                                                         color = 'dodgerblue'\n",
    "                                                        )\n",
    "ax2.set(ylim =(0,6),\n",
    "       ylabel = 'MtCO2 / TWh')\n",
    "ax2.set_title('CO2 emissions per unit electricity output', fontsize = 14)\n",
    "ax2.axhline(1, color = 'green')\n",
    "\n",
    "for axis in (ax1,ax2):\n",
    "    axis.set(xticks = [2000+4*i for i in range(0,6)],\n",
    "             xlabel = ''\n",
    "            )\n",
    "    axis.tick_params(labelsize = 12)\n",
    "\n",
    "plt.show()"
   ]
  },
  {
   "cell_type": "markdown",
   "metadata": {},
   "source": [
    "We can see that Poland has made very little progress on either goal in the past fifteen years, and in fact appears to be worsening in 2016-17, both in absolute terms and relative to the EU.\n",
    "\n",
    "## Goal 11: Sustainable Cities and Communities"
   ]
  },
  {
   "cell_type": "code",
   "execution_count": null,
   "metadata": {},
   "outputs": [],
   "source": [
    "priority_goals[11]"
   ]
  },
  {
   "cell_type": "markdown",
   "metadata": {},
   "source": [
    "Here the lowest categores are sdg11_eupm25: exposure to PM 2.5 and sdg11_crowding: overcrowding rate in lower-income communities. Below we analyze how these are trending."
   ]
  },
  {
   "cell_type": "code",
   "execution_count": null,
   "metadata": {},
   "outputs": [],
   "source": [
    "\n",
    "fig, (ax1, ax2) = plt.subplots(1,2, figsize = (12,4))\n",
    "\n",
    "sdg_trends[sdg_trends['country']=='Poland'].plot(x = 'year', \n",
    "                                                 y = 'sdg11_eupm25', \n",
    "                                                 ax = ax1,\n",
    "                                                 label = 'Exposure to PM 2.5 Pollution'\n",
    "                                                )\n",
    "ax1.axhline(10, color = 'green')\n",
    "ax1.set(ylim=(0,40))\n",
    "\n",
    "\n",
    "sdg_trends[sdg_trends['country']=='Poland'].plot(x = 'year', \n",
    "                                                 y = 'sdg11_crowding', \n",
    "                                                 ax = ax2,\n",
    "                                                 label = 'Overcrowding in Low-Income Areas'\n",
    "                                                )\n",
    "ax2.axhline(35, color = 'green')\n",
    "ax2.set(ylim=(0,80))\n",
    "\n",
    "for axis in (ax1,ax2):\n",
    "    axis.set(xticks = [2004+4*i for i in range(0,5)],\n",
    "             xlabel = ''\n",
    "            )\n",
    "    axis.tick_params(labelsize = 12)\n",
    "\n",
    "plt.show()"
   ]
  },
  {
   "cell_type": "markdown",
   "metadata": {},
   "source": [
    "We see that overcrowding appears to be declining sufficiently quickly to reach the green threshold, but particulate air pollution has only marginally decreased and, like clean energy trends, has reversed in recent years. This agrees with my own experience of poor air quality in Warsaw in recent years.\n",
    "\n",
    "## Areas of Strength\n",
    "Before making final conclusions, we look at the two Goals where Poland is most outperforming the EU: Goals 4 and 15. These may indicate strengths Poland can use to make changes.\n",
    "\n",
    "## Goal 4: Education"
   ]
  },
  {
   "cell_type": "code",
   "execution_count": null,
   "metadata": {},
   "outputs": [],
   "source": [
    "sns.set_style('white')\n",
    "goal4 = sdg_current.filter(regex = 'Country|^Normalized Score sdg4',axis=1)[0:32]\n",
    "\n",
    "fig = plt.figure(figsize = (12,6))\n",
    "ax = plt.subplot()\n",
    "goal4.boxplot(vert = False, ax = ax).invert_yaxis()\n",
    "\n",
    "#Mark Poland\n",
    "poland_4 = goal4.iloc[15,1:10].tolist()\n",
    "plt.scatter(x = poland_4, y = arange(1,10), marker = \"d\", color = 'red', label = 'Poland')\n",
    "\n",
    "y_labels = ['Early education', 'Dropout rate', 'PISA score', 'Science achievement', 'Science achievement equity', \n",
    "            'Resilience', 'Adults with college degree', 'Adult learning', 'Adult numeracy']\n",
    "\n",
    "ax.set_yticklabels(y_labels)\n",
    "ax.set_title('Normalized Scores, Goal 4: Education', size = 16)\n",
    "ax.yaxis.set_ticks_position(\"right\")\n",
    "\n",
    "plt.xlabel('% Achieved')\n",
    "plt.legend()\n",
    "sns.set_style('whitegrid')\n",
    "ax.grid(False)\n",
    "ax.tick_params(labelsize = 12)\n",
    "\n",
    "plt.show()"
   ]
  },
  {
   "cell_type": "markdown",
   "metadata": {},
   "source": [
    "Poland is in the top 25% of European countries in these categories:\n",
    "- Early leavers from education and training (% of population aged 18 to 24)\n",
    "- PISA score (worst 0–600 best)\n",
    "- Underachievers in science (% of population aged 15)\n",
    "- Resilient students (%)\n",
    "\n",
    "This indicates that there is a strong secondary education system, particularly in science. In contrast, Adult learning and literacy are the lowest categories.\n",
    "\n",
    "## Goal 15: Life on Land"
   ]
  },
  {
   "cell_type": "code",
   "execution_count": null,
   "metadata": {},
   "outputs": [],
   "source": [
    "goal15 = sdg_current.filter(regex = 'Country|^Normalized Score sdg15',axis=1)[0:32]\n",
    "\n",
    "fig = plt.figure(figsize = (8,4))\n",
    "ax = plt.subplot()\n",
    "goal15.boxplot(vert = False, ax = ax).invert_yaxis()\n",
    "\n",
    "#Mark Poland\n",
    "poland_15 = goal15.iloc[15,1:7].tolist()\n",
    "plt.scatter(x = poland_15, y = arange(1,7), marker = \"d\", color = 'red', label = 'Poland')\n",
    "\n",
    "ax.set_yticklabels(['Protected Land', 'Protected Freshwater', 'Oxygen in Rivers', 'Nitrate in ground', \n",
    "            'Endangered Species', 'Threats to Biodiversity from imports'])\n",
    "ax.set_title('Normalized Scores, Goal 15: Life On Land', size = 16)\n",
    "\n",
    "ax.yaxis.set_ticks_position(\"right\")\n",
    "\n",
    "plt.xlabel('% Achieved')\n",
    "plt.legend()\n",
    "sns.set_style('whitegrid')\n",
    "ax.grid(False)\n",
    "ax.tick_params(labelsize = 12)\n",
    "\n",
    "plt.show()"
   ]
  },
  {
   "cell_type": "markdown",
   "metadata": {},
   "source": [
    "Poland is in or near the top 25% of countries protecting biodiversity by most measures. This is interesting, as there has been much news coverage of the current government rolling back protections - for example, increasing logging in Białowieża National Park. It would be worthwhile to research further to determine which measures are most contributing to effective protection and whether they are continuing at present.\n",
    "\n",
    "## Conclusions\n",
    "\n",
    "The Sustainable Development Goals provide a top-level summary of countries' progress in many different areas. In order to compare across countries, they must be broad and may be based on old or sparse data. In addition, the choice of model, namely averaging all sub-indicator scores with equal weights, affects the final outcomes. Hence, these conclusions are only a tentative starting point for considering Poland's particular situation and should not be considered as extremely precise measurements. Despite these limitations, some interesting trends can still be observed.\n",
    "\n",
    "To improve in the categories in which Poland lags the EU average, the data suggest the following are key issues to address:\n",
    "- Innovation & Industry: Increasing patents & building digital skills\n",
    "- Gender Equality: Increasing the number of women in leadership\n",
    "- Clean Energy: Increasing renewable energy & decreasing carbon emissions\n",
    "- Sustainable Cities: Decreasing air pollution\n",
    "\n",
    "Poland's existing strong secondary education system, especially in science, could be harnessed by policymakers to address these issues. For example: the government, nonprofits and/or relevant businesses could support programs in secondary & tertiary education that encourage students - particularly women - to pursue innovation in sustainable energy as scientists or entrepreneurs.\n",
    "\n",
    "Existing effective policies for protecting biodiversity might also provide a blueprint for further environmental protection policies. Finally, policies from comparable countries such as Slovenia and Czechia who are outperforming in these areas could also be studied and adapted for Poland.\n",
    "\n",
    "While this analysis represents only the tip of the iceberg and deeper analysis would doubtless uncover other issues and nuances, it does represent a snapshot of Poland's progress and challenges in sustainable development."
   ]
  }
 ],
 "metadata": {
  "kernelspec": {
   "display_name": "Python 3",
   "language": "python",
   "name": "python3"
  },
  "language_info": {
   "codemirror_mode": {
    "name": "ipython",
    "version": 3
   },
   "file_extension": ".py",
   "mimetype": "text/x-python",
   "name": "python",
   "nbconvert_exporter": "python",
   "pygments_lexer": "ipython3",
   "version": "3.8.5"
  }
 },
 "nbformat": 4,
 "nbformat_minor": 4
}
